{
 "cells": [
  {
   "cell_type": "code",
   "execution_count": null,
   "id": "9df2960b",
   "metadata": {},
   "outputs": [],
   "source": [
    "#Q1"
   ]
  },
  {
   "cell_type": "code",
   "execution_count": 1,
   "id": "3ac96b37",
   "metadata": {},
   "outputs": [
    {
     "data": {
      "text/plain": [
       "(0     1\n",
       " 1     2\n",
       " 2     3\n",
       " 3     4\n",
       " 4     5\n",
       " 5     6\n",
       " 6     7\n",
       " 7     8\n",
       " 8     9\n",
       " 9    10\n",
       " dtype: int32,\n",
       " 0     5\n",
       " 1     6\n",
       " 2     7\n",
       " 3     8\n",
       " 4     9\n",
       " 5    10\n",
       " dtype: int32,\n",
       " 0      5\n",
       " 1      6\n",
       " 2      7\n",
       " 3      8\n",
       " 4      9\n",
       " 5     10\n",
       " 6     11\n",
       " 7     12\n",
       " 8     13\n",
       " 9     14\n",
       " 10    15\n",
       " dtype: int32)"
      ]
     },
     "execution_count": 1,
     "metadata": {},
     "output_type": "execute_result"
    }
   ],
   "source": [
    "import pandas as pd,numpy as np\n",
    "def range_series(a=1,b=11):\n",
    "    if(a==5,b==11): \n",
    "        series=pd.Series(np.arange(a,b))\n",
    "    if(a==5,b==16):\n",
    "        series=pd.Series(np.arange(a,b))\n",
    "    else:\n",
    "        series=pd.Series(np.arange(a,b))\n",
    "    return series\n",
    "range_series(),range_series(5,11),range_series(5,16)"
   ]
  },
  {
   "cell_type": "code",
   "execution_count": 2,
   "id": "82979406",
   "metadata": {},
   "outputs": [],
   "source": [
    "#Q2"
   ]
  },
  {
   "cell_type": "code",
   "execution_count": 3,
   "id": "cddcba29",
   "metadata": {},
   "outputs": [
    {
     "data": {
      "text/html": [
       "<div>\n",
       "<style scoped>\n",
       "    .dataframe tbody tr th:only-of-type {\n",
       "        vertical-align: middle;\n",
       "    }\n",
       "\n",
       "    .dataframe tbody tr th {\n",
       "        vertical-align: top;\n",
       "    }\n",
       "\n",
       "    .dataframe thead th {\n",
       "        text-align: right;\n",
       "    }\n",
       "</style>\n",
       "<table border=\"1\" class=\"dataframe\">\n",
       "  <thead>\n",
       "    <tr style=\"text-align: right;\">\n",
       "      <th></th>\n",
       "      <th>One</th>\n",
       "      <th>Two</th>\n",
       "    </tr>\n",
       "  </thead>\n",
       "  <tbody>\n",
       "    <tr>\n",
       "      <th>0</th>\n",
       "      <td>X</td>\n",
       "      <td>A</td>\n",
       "    </tr>\n",
       "    <tr>\n",
       "      <th>1</th>\n",
       "      <td>Y</td>\n",
       "      <td>B</td>\n",
       "    </tr>\n",
       "  </tbody>\n",
       "</table>\n",
       "</div>"
      ],
      "text/plain": [
       "  One Two\n",
       "0   X   A\n",
       "1   Y   B"
      ]
     },
     "execution_count": 3,
     "metadata": {},
     "output_type": "execute_result"
    }
   ],
   "source": [
    "def funct():\n",
    "    d = {'One': [\"X\", \"Y\"], 'Two': [\"A\", \"B\"]}\n",
    "    df=pd.DataFrame(data=d)\n",
    "    return df\n",
    "funct()"
   ]
  },
  {
   "cell_type": "code",
   "execution_count": null,
   "id": "02e80084",
   "metadata": {},
   "outputs": [],
   "source": []
  }
 ],
 "metadata": {
  "kernelspec": {
   "display_name": "Python 3 (ipykernel)",
   "language": "python",
   "name": "python3"
  },
  "language_info": {
   "codemirror_mode": {
    "name": "ipython",
    "version": 3
   },
   "file_extension": ".py",
   "mimetype": "text/x-python",
   "name": "python",
   "nbconvert_exporter": "python",
   "pygments_lexer": "ipython3",
   "version": "3.9.7"
  }
 },
 "nbformat": 4,
 "nbformat_minor": 5
}
