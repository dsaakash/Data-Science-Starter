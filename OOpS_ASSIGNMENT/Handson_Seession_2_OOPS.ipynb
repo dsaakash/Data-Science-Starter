{
 "cells": [
  {
   "cell_type": "code",
   "execution_count": 1,
   "id": "a08d03bd",
   "metadata": {},
   "outputs": [],
   "source": [
    "#Super()\n",
    "#prebuilt in python \n",
    "# req: usefull to call super classor base class(paarent) methods varibles"
   ]
  },
  {
   "cell_type": "code",
   "execution_count": 2,
   "id": "61eb6d6c",
   "metadata": {},
   "outputs": [
    {
     "name": "stdout",
     "output_type": "stream",
     "text": [
      "Name: Abhi\n",
      "Age: 22\n",
      "Roll no 101\n",
      "Marks 90\n"
     ]
    }
   ],
   "source": [
    "class Person:\n",
    "    def __init__(self,name,age):\n",
    "        self.name = name\n",
    "        self.age  = age\n",
    "        \n",
    "    def display(self):\n",
    "        print(\"Name:\",self.name)\n",
    "        print(\"Age:\",self.age)\n",
    "        \n",
    "        \n",
    "class Student(Person):\n",
    "    def __init__(self,name,age,rollno,marks):\n",
    "        super().__init__(name,age)\n",
    "        self.rollno = rollno\n",
    "        self.marks = marks\n",
    "        \n",
    "    def display(self):\n",
    "        super().display()\n",
    "        print(\"Roll no\",self.rollno)\n",
    "        print(\"Marks\",self.marks)\n",
    "\n",
    "s1 = Student('Abhi',22,101,90)\n",
    "s1.display()        "
   ]
  },
  {
   "cell_type": "code",
   "execution_count": 3,
   "id": "19dcec35",
   "metadata": {},
   "outputs": [],
   "source": [
    "#Assignement \n",
    "#2 problem University,Department"
   ]
  },
  {
   "cell_type": "code",
   "execution_count": 4,
   "id": "312664e5",
   "metadata": {},
   "outputs": [],
   "source": [
    "# Polymorphism\n",
    "#generrally\n",
    "\n",
    "# having different facial expression with differeent situation"
   ]
  },
  {
   "cell_type": "code",
   "execution_count": 5,
   "id": "cec7b2e9",
   "metadata": {},
   "outputs": [],
   "source": [
    "#method overloading:\n"
   ]
  },
  {
   "cell_type": "code",
   "execution_count": 10,
   "id": "19b42bd0",
   "metadata": {},
   "outputs": [
    {
     "name": "stdout",
     "output_type": "stream",
     "text": [
      "two agument method\n"
     ]
    }
   ],
   "source": [
    "class Test:\n",
    "    def m1(self):\n",
    "        print(\"no arguments\")\n",
    "        \n",
    "    def m1(self,a):\n",
    "        print(\"one arg method\")\n",
    "        \n",
    "    def m1(self,a,b):\n",
    "        print(\"two agument method\")\n",
    "        \n",
    "t  = Test()\n",
    "t.m1(10,20)"
   ]
  },
  {
   "cell_type": "code",
   "execution_count": 12,
   "id": "020d7c9f",
   "metadata": {},
   "outputs": [
    {
     "name": "stdout",
     "output_type": "stream",
     "text": [
      "two arg method\n"
     ]
    }
   ],
   "source": [
    "#Coonstructor Overloading\n",
    "\n",
    "class Test:\n",
    "    def __init__(self):\n",
    "        print(\"no arg\")\n",
    "        \n",
    "    def __init__(self,a):\n",
    "        print(\"One arg Cons\")\n",
    "        \n",
    "    def __init__(self,a,b):\n",
    "        print(\"two arg method\")\n",
    "t3 = Test(10,20)"
   ]
  },
  {
   "cell_type": "code",
   "execution_count": 18,
   "id": "9e2432cf",
   "metadata": {},
   "outputs": [
    {
     "name": "stdout",
     "output_type": "stream",
     "text": [
      "Constructor with 0|1|2|3\n"
     ]
    }
   ],
   "source": [
    "class Test:\n",
    "    def __init__(self,a=None,b=None,c=None):\n",
    "        print('Constructor with 0|1|2|3')\n",
    "        \n",
    "# a1 = Test()\n",
    "# a2  = Test(10)\n",
    "\n",
    "# a3  = Test(10,20)\n",
    "# a4 = Test(10,20,30)"
   ]
  },
  {
   "cell_type": "code",
   "execution_count": 22,
   "id": "2e7064b3",
   "metadata": {},
   "outputs": [
    {
     "name": "stdout",
     "output_type": "stream",
     "text": [
      "Constructor with Variable number of argements\n"
     ]
    }
   ],
   "source": [
    "class Test:\n",
    "    def __init__(self,*a):\n",
    "        print('Constructor with Variable number of argements')\n",
    "\n",
    "# a1 = Test()\n",
    "# a2  = Test(10)\n",
    "\n",
    "# a3  = Test(10,20)\n",
    "# a4 = Test(10,20,30)  \n",
    "a5 = Test(10,20,30,40,50)\n"
   ]
  },
  {
   "cell_type": "code",
   "execution_count": 23,
   "id": "0d9b2d2c",
   "metadata": {},
   "outputs": [],
   "source": [
    "#Over riding:\n",
    "#Method Overriding"
   ]
  },
  {
   "cell_type": "code",
   "execution_count": 25,
   "id": "7f8cc3b6",
   "metadata": {},
   "outputs": [
    {
     "name": "stdout",
     "output_type": "stream",
     "text": [
      "GOld+land\n",
      "Katrina kaif\n"
     ]
    }
   ],
   "source": [
    "class P:\n",
    "    def property(self):\n",
    "        print('GOld+land')\n",
    "        \n",
    "    def marry(self):\n",
    "        print('Apple')\n",
    "        \n",
    "class C(P):\n",
    "    def marry(self):\n",
    "        print('Katrina kaif')\n",
    "        \n",
    "c = C()\n",
    "c.property()\n",
    "c.marry()"
   ]
  },
  {
   "cell_type": "code",
   "execution_count": 26,
   "id": "05a06c25",
   "metadata": {},
   "outputs": [
    {
     "name": "stdout",
     "output_type": "stream",
     "text": [
      "GOld+land\n",
      "Apple\n",
      "Katrina kaif\n"
     ]
    }
   ],
   "source": [
    "class P:\n",
    "    def property(self):\n",
    "        print('GOld+land')\n",
    "        \n",
    "    def marry(self):\n",
    "        print('Apple')\n",
    "        \n",
    "class C(P):\n",
    "    def marry(self):\n",
    "        super().marry()\n",
    "        print('Katrina kaif')\n",
    "        \n",
    "d = C()\n",
    "d.property()\n",
    "d.marry()"
   ]
  },
  {
   "cell_type": "code",
   "execution_count": 27,
   "id": "0104fa3a",
   "metadata": {},
   "outputs": [],
   "source": [
    "#Demo Example"
   ]
  },
  {
   "cell_type": "code",
   "execution_count": 28,
   "id": "fc2c7721",
   "metadata": {},
   "outputs": [
    {
     "name": "stdout",
     "output_type": "stream",
     "text": [
      "Employeename: Abhi\n",
      "Employe Age: 24\n",
      "Employee Number: 345\n",
      "Employe Salary: 899090909\n"
     ]
    }
   ],
   "source": [
    "class Person:\n",
    "    def __init__(self,name,age):\n",
    "        self.name = name\n",
    "        self.age  = age\n",
    "        \n",
    "        \n",
    "class Employee(Person):\n",
    "    def __init__(self,name,age,eno,esal):\n",
    "        super().__init__(name,age)\n",
    "        self.eno = eno\n",
    "        self.esal = esal\n",
    "        \n",
    "    def display(self):\n",
    "        print(\"Employeename:\",self.name)\n",
    "        print(\"Employe Age:\",self.age)\n",
    "        print(\"Employee Number:\",self.eno)\n",
    "        print(\"Employe Salary:\",self.esal)\n",
    "e1 = Employee('Abhi',24,345,899090909)\n",
    "e1.display()"
   ]
  },
  {
   "cell_type": "code",
   "execution_count": 29,
   "id": "84331e46",
   "metadata": {},
   "outputs": [],
   "source": [
    "#Abstract Method:\n",
    "#we dont knoe implementation part we have to define such type of methods is called Abstract method"
   ]
  },
  {
   "cell_type": "code",
   "execution_count": 30,
   "id": "b72e60df",
   "metadata": {},
   "outputs": [],
   "source": [
    "#by using @abstractmethod\n",
    "\n",
    "# abc--> abstract base class module"
   ]
  },
  {
   "cell_type": "code",
   "execution_count": 31,
   "id": "0d4f7ae4",
   "metadata": {},
   "outputs": [],
   "source": [
    "from abc import *\n",
    "\n",
    "class Test:\n",
    "    @abstractmethod\n",
    "    def m1(self):\n",
    "        pass"
   ]
  },
  {
   "cell_type": "code",
   "execution_count": 32,
   "id": "8dcfddf9",
   "metadata": {},
   "outputs": [],
   "source": [
    "from abc import *\n",
    "\n",
    "class Fruit:\n",
    "    @abstractmethod   \n",
    "    def taste(self):\n",
    "        pass\n",
    "        "
   ]
  },
  {
   "cell_type": "code",
   "execution_count": 33,
   "id": "b8ed90e4",
   "metadata": {},
   "outputs": [],
   "source": [
    "#Abstract class \n",
    "#case 1: \n",
    "from abc import *\n",
    "class Test:\n",
    "    pass\n",
    "\n",
    "t = Test()"
   ]
  },
  {
   "cell_type": "code",
   "execution_count": 34,
   "id": "0044bcdf",
   "metadata": {},
   "outputs": [],
   "source": [
    "#case 2:\n",
    "from abc import *\n",
    "\n",
    "class Test(ABC):\n",
    "    pass\n",
    "\n",
    "t1 = Test()"
   ]
  },
  {
   "cell_type": "code",
   "execution_count": 35,
   "id": "c3c3d08a",
   "metadata": {},
   "outputs": [
    {
     "ename": "TypeError",
     "evalue": "Can't instantiate abstract class Test with abstract method m1",
     "output_type": "error",
     "traceback": [
      "\u001b[1;31m---------------------------------------------------------------------------\u001b[0m",
      "\u001b[1;31mTypeError\u001b[0m                                 Traceback (most recent call last)",
      "\u001b[1;32m~\\AppData\\Local\\Temp/ipykernel_6176/3320016829.py\u001b[0m in \u001b[0;36m<module>\u001b[1;34m\u001b[0m\n\u001b[0;32m      9\u001b[0m \u001b[1;33m\u001b[0m\u001b[0m\n\u001b[0;32m     10\u001b[0m \u001b[1;33m\u001b[0m\u001b[0m\n\u001b[1;32m---> 11\u001b[1;33m \u001b[0mw\u001b[0m \u001b[1;33m=\u001b[0m \u001b[0mTest\u001b[0m\u001b[1;33m(\u001b[0m\u001b[1;33m)\u001b[0m\u001b[1;33m\u001b[0m\u001b[1;33m\u001b[0m\u001b[0m\n\u001b[0m\u001b[0;32m     12\u001b[0m \u001b[1;33m\u001b[0m\u001b[0m\n",
      "\u001b[1;31mTypeError\u001b[0m: Can't instantiate abstract class Test with abstract method m1"
     ]
    }
   ],
   "source": [
    "# case 3\n",
    "\n",
    "from abc import *\n",
    "\n",
    "class Test(ABC):\n",
    "    @abstractmethod\n",
    "    def m1(self):\n",
    "        pass\n",
    "\n",
    "    \n",
    "w = Test()\n",
    "    "
   ]
  },
  {
   "cell_type": "code",
   "execution_count": 36,
   "id": "4d2b47c4",
   "metadata": {},
   "outputs": [
    {
     "name": "stdout",
     "output_type": "stream",
     "text": [
      "hello\n"
     ]
    }
   ],
   "source": [
    "from abc import *\n",
    "class Test:\n",
    "    @abstractmethod\n",
    "    def m1(self):\n",
    "        print(\"hello\")\n",
    "        \n",
    "q = Test()\n",
    "q.m1()"
   ]
  },
  {
   "cell_type": "code",
   "execution_count": 37,
   "id": "813f5b83",
   "metadata": {},
   "outputs": [],
   "source": [
    "# Interfaces in python\n",
    "#if an abstract class contains only abstract methods then such type of abstract class considered it as iterface"
   ]
  },
  {
   "cell_type": "code",
   "execution_count": 42,
   "id": "6f789789",
   "metadata": {},
   "outputs": [
    {
     "name": "stdout",
     "output_type": "stream",
     "text": [
      "Enter printer nameEPSON\n",
      "printing from epson printer\n",
      "printing completed on EPSON printer\n"
     ]
    }
   ],
   "source": [
    "from abc import *\n",
    "\n",
    "class Printer(ABC):\n",
    "    @abstractmethod\n",
    "    def printit(self):\n",
    "        pass\n",
    "    \n",
    "    @abstractmethod\n",
    "    def disconnect(self):pass\n",
    "    \n",
    "class EPSON(Printer):\n",
    "    def printit(self):\n",
    "        print(\"printing from epson printer\")\n",
    "        \n",
    "    def disconnect(self):\n",
    "        print(\"printing completed on EPSON printer\")\n",
    "    \n",
    "    \n",
    "    \n",
    "class HP(Printer):\n",
    "    def printit(self):\n",
    "        print(\"printing from HP printer\")\n",
    "#         print(text)\n",
    "    def disconnect(self):\n",
    "        print(\"printing completed on HP printer\")\n",
    "        \n",
    "        \n",
    "printer = input(\"Enter printer name\")\n",
    "classname =globals()[printer]\n",
    "x = classname()\n",
    "x.printit()\n",
    "x.disconnect()  "
   ]
  },
  {
   "cell_type": "code",
   "execution_count": 43,
   "id": "a910b7eb",
   "metadata": {},
   "outputs": [],
   "source": [
    "# __str__()method"
   ]
  },
  {
   "cell_type": "code",
   "execution_count": 45,
   "id": "c3921213",
   "metadata": {},
   "outputs": [
    {
     "data": {
      "text/plain": [
       "'This is Student with Name :Abhi and ROllno :102'"
      ]
     },
     "execution_count": 45,
     "metadata": {},
     "output_type": "execute_result"
    }
   ],
   "source": [
    "class Student:\n",
    "    def __init__(self,name,rollno):\n",
    "        self.name =name \n",
    "        self.rollno=rollno\n",
    "        \n",
    "        \n",
    "    def __str__(self):\n",
    "        return 'This is Student with Name :{} and ROllno :{}'.format(self.name,self.rollno)\n",
    "    \n",
    "s1 = Student('Abhi',102)\n",
    "s1.__str__()\n"
   ]
  },
  {
   "cell_type": "code",
   "execution_count": 46,
   "id": "f57dee36",
   "metadata": {},
   "outputs": [],
   "source": [
    "# __--> private\n",
    "\n",
    "# _ -->protected"
   ]
  },
  {
   "cell_type": "code",
   "execution_count": 50,
   "id": "99bb1578",
   "metadata": {},
   "outputs": [
    {
     "name": "stdout",
     "output_type": "stream",
     "text": [
      "10\n",
      "20\n",
      "30\n",
      "10\n",
      "20\n",
      "30\n"
     ]
    }
   ],
   "source": [
    "class Test:\n",
    "    x = 10\n",
    "    _y=20\n",
    "    __z=30\n",
    "    def m1(self):\n",
    "        print(Test.x)\n",
    "        print(Test._y)\n",
    "        print(Test.__z)\n",
    "        \n",
    "r = Test()\n",
    "r.m1()\n",
    "print(Test.x)\n",
    "print(Test._y)\n",
    "print(r._Test__z)\n",
    "\n",
    "        "
   ]
  },
  {
   "cell_type": "code",
   "execution_count": null,
   "id": "8ab93b7e",
   "metadata": {},
   "outputs": [],
   "source": []
  }
 ],
 "metadata": {
  "kernelspec": {
   "display_name": "Python 3 (ipykernel)",
   "language": "python",
   "name": "python3"
  },
  "language_info": {
   "codemirror_mode": {
    "name": "ipython",
    "version": 3
   },
   "file_extension": ".py",
   "mimetype": "text/x-python",
   "name": "python",
   "nbconvert_exporter": "python",
   "pygments_lexer": "ipython3",
   "version": "3.9.7"
  }
 },
 "nbformat": 4,
 "nbformat_minor": 5
}
