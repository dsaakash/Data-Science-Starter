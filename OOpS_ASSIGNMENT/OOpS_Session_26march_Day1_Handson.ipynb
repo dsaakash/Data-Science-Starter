{
 "cells": [
  {
   "cell_type": "code",
   "execution_count": 2,
   "id": "d1e3bb9e",
   "metadata": {},
   "outputs": [],
   "source": [
    "# what is oops ---> real world\n",
    "#how to define class\n",
    "# --> we can define class by using class\n",
    "\n",
    "# class className:\n",
    "# '''this class what plan who will take'''\n",
    "#variable:\n",
    "#methods:"
   ]
  },
  {
   "cell_type": "code",
   "execution_count": 3,
   "id": "3585b08c",
   "metadata": {},
   "outputs": [
    {
     "name": "stdout",
     "output_type": "stream",
     "text": [
      "Student with class with required data\n"
     ]
    }
   ],
   "source": [
    "class Student:\n",
    "    '''Student with class with required data'''\n",
    "    \n",
    "print(Student.__doc__)"
   ]
  },
  {
   "cell_type": "code",
   "execution_count": 4,
   "id": "7fef0c60",
   "metadata": {},
   "outputs": [],
   "source": [
    "# #Example \n",
    "# what is object\n",
    "# What is reference variable?"
   ]
  },
  {
   "cell_type": "code",
   "execution_count": 9,
   "id": "2507d38d",
   "metadata": {},
   "outputs": [
    {
     "name": "stdout",
     "output_type": "stream",
     "text": [
      "Name is : Subham\n",
      "Marks is : 98\n",
      "Roll no is: 34\n",
      "Name is : Ambrish\n",
      "Marks is : 100\n",
      "Roll no is: 35\n"
     ]
    }
   ],
   "source": [
    "class Student:\n",
    "    \"this is student demo\"\n",
    "    \n",
    "    def __init__(self,name,rollno,marks):\n",
    "        self.name = name\n",
    "        self.rollno = rollno\n",
    "        self.marks = marks\n",
    "        \n",
    "    def talk(self):\n",
    "        print(\"Name is :\",self.name)\n",
    "        print(\"Marks is :\",self.marks)\n",
    "        print(\"Roll no is:\",self.rollno)\n",
    "        \n",
    "st1  = Student(\"Subham\",34,98)\n",
    "st1.talk()\n",
    "st2  = Student(\"Ambrish\",35,100)\n",
    "st2.talk()"
   ]
  },
  {
   "cell_type": "code",
   "execution_count": 10,
   "id": "051ba35f",
   "metadata": {},
   "outputs": [],
   "source": [
    "# Types of variables:\n",
    "#     Instance variable\n",
    "#     Static variables\n",
    "#     local variables\n",
    "    "
   ]
  },
  {
   "cell_type": "code",
   "execution_count": 12,
   "id": "21e6abc7",
   "metadata": {},
   "outputs": [],
   "source": [
    "#Instance variable (Object level variable)\n",
    "# if valaue of variable varied from object to object then such type of variable is instance variables"
   ]
  },
  {
   "cell_type": "code",
   "execution_count": 13,
   "id": "bec2f1d7",
   "metadata": {},
   "outputs": [],
   "source": [
    "#where we can declare instance\n",
    "# Inside constructor by using self variable "
   ]
  },
  {
   "cell_type": "code",
   "execution_count": 14,
   "id": "938c1181",
   "metadata": {},
   "outputs": [
    {
     "name": "stdout",
     "output_type": "stream",
     "text": [
      "{'eno': '100', 'ename': 'abhi', 'esal': 10000}\n"
     ]
    }
   ],
   "source": [
    "class Employee:\n",
    "    \n",
    "    def __init__(self):\n",
    "        self.eno = '100'\n",
    "        self.ename='abhi'\n",
    "        self.esal = 10000\n",
    "        \n",
    "#physical existence \n",
    "e = Employee()\n",
    "print(e.__dict__)"
   ]
  },
  {
   "cell_type": "code",
   "execution_count": 15,
   "id": "85ee4ce3",
   "metadata": {},
   "outputs": [
    {
     "name": "stdout",
     "output_type": "stream",
     "text": [
      "Name is : Subham\n",
      "Marks is : 98\n",
      "Roll no is: 34\n",
      "Name is : Ambrish\n",
      "Marks is : 100\n",
      "Roll no is: 35\n"
     ]
    }
   ],
   "source": [
    "class Student:\n",
    "    \"this is student demo\"\n",
    "    \n",
    "    def __init__(self,name,rollno,marks):\n",
    "        self.name = name\n",
    "        self.rollno = rollno\n",
    "        self.marks = marks\n",
    "        \n",
    "    def talk(self):\n",
    "        print(\"Name is :\",self.name)\n",
    "        print(\"Marks is :\",self.marks)\n",
    "        print(\"Roll no is:\",self.rollno)\n",
    "        \n",
    "st1  = Student(\"Subham\",34,98)\n",
    "st1.age = \"34\"\n",
    "st1.talk()\n",
    "st2  = Student(\"Ambrish\",35,100)\n",
    "st2.talk()"
   ]
  },
  {
   "cell_type": "code",
   "execution_count": 17,
   "id": "7966b665",
   "metadata": {},
   "outputs": [
    {
     "name": "stdout",
     "output_type": "stream",
     "text": [
      "10\n",
      "{'a': 10, 'b': 20, 'c': 30, 'd': 40}\n"
     ]
    }
   ],
   "source": [
    "class Test:\n",
    "    \n",
    "    def __init__(self):\n",
    "        self.a =10\n",
    "        self.b = 20\n",
    "        \n",
    "    def m1(self):\n",
    "        self.c = 30\n",
    "        \n",
    "t = Test()\n",
    "t.m1()\n",
    "t.d = 40\n",
    "print(t.a)\n",
    "print(t.__dict__)"
   ]
  },
  {
   "cell_type": "code",
   "execution_count": 18,
   "id": "f8f4b725",
   "metadata": {},
   "outputs": [],
   "source": [
    "del t.d"
   ]
  },
  {
   "cell_type": "code",
   "execution_count": 19,
   "id": "4385cd18",
   "metadata": {},
   "outputs": [
    {
     "name": "stdout",
     "output_type": "stream",
     "text": [
      "{'a': 10, 'b': 20, 'c': 30}\n"
     ]
    }
   ],
   "source": [
    "print(t.__dict__)"
   ]
  },
  {
   "cell_type": "code",
   "execution_count": 20,
   "id": "f0ce3eb9",
   "metadata": {},
   "outputs": [],
   "source": [
    "# Setter and Getter Methods"
   ]
  },
  {
   "cell_type": "code",
   "execution_count": 21,
   "id": "16939fd4",
   "metadata": {},
   "outputs": [],
   "source": [
    "#Setter method: set vslues\n",
    "\n",
    "#getter method to get values:\n",
    "\n",
    "\n",
    "# def setVariable(self,variable):\n",
    "#     self.variable = variable\n",
    "    \n",
    "\n",
    "# def getVariable(self,variable):\n",
    "#     return self.variable \n",
    "    "
   ]
  },
  {
   "cell_type": "code",
   "execution_count": 22,
   "id": "4fc727c3",
   "metadata": {},
   "outputs": [
    {
     "name": "stdout",
     "output_type": "stream",
     "text": [
      "Enter number of Students1\n",
      "Enter Nameabhi\n",
      "Enter marks23\n",
      "Hi abhi\n",
      "Marks 23\n",
      "\n"
     ]
    }
   ],
   "source": [
    "# Example\n",
    "\n",
    "class Student:\n",
    "    def setName(self,name):\n",
    "        self.name = name\n",
    "    def getName(self):\n",
    "        return self.name\n",
    "    def setMarks(self,marks):\n",
    "        self.marks = marks\n",
    "        \n",
    "    def getMarks(self):\n",
    "        return self.marks\n",
    "    \n",
    "    \n",
    "n = int(input(\"Enter number of Students\"))\n",
    "\n",
    "for i in range(n):\n",
    "    s = Student()\n",
    "    name = input(\"Enter Name\")\n",
    "    s.setName(name)\n",
    "    marks = int(input(\"Enter marks\"))\n",
    "    s.setMarks(marks)\n",
    "    \n",
    "    print(\"Hi\",s.getName())\n",
    "    print(\"Marks\",s.getMarks())\n",
    "    print()"
   ]
  },
  {
   "cell_type": "code",
   "execution_count": 23,
   "id": "18f0eb6e",
   "metadata": {},
   "outputs": [],
   "source": [
    "# Assignment\n",
    "#Student case\n",
    "#Grneral case"
   ]
  },
  {
   "cell_type": "code",
   "execution_count": 24,
   "id": "25e501bc",
   "metadata": {},
   "outputs": [],
   "source": [
    "#Inner classes-->\n",
    "#class car:\n",
    "#     class Engine:"
   ]
  },
  {
   "cell_type": "code",
   "execution_count": 33,
   "id": "3511baf4",
   "metadata": {},
   "outputs": [
    {
     "name": "stdout",
     "output_type": "stream",
     "text": [
      "Name abhi\n",
      "Dob=10/5/1947\n"
     ]
    }
   ],
   "source": [
    "class Person:\n",
    "    def __init__(self):\n",
    "        self.name='abhi'\n",
    "        self.db=Dob()\n",
    "        \n",
    "    def display(self):\n",
    "        print('Name',self.name)\n",
    "class  Dob:\n",
    "    def __init__(self):\n",
    "        self.dd = 10\n",
    "        self.mm = 5\n",
    "        self.yy = 1947\n",
    "    def display(self):\n",
    "        print('Dob={}/{}/{}'.format(self.dd,self.mm,self.yy))\n",
    "p = Person()\n",
    "p.display()\n",
    "x = p.db\n",
    "x.display()"
   ]
  },
  {
   "cell_type": "code",
   "execution_count": 36,
   "id": "3913f36f",
   "metadata": {},
   "outputs": [
    {
     "name": "stdout",
     "output_type": "stream",
     "text": [
      "Parent class\n",
      "Child class method\n"
     ]
    }
   ],
   "source": [
    "#Inheritance :\n",
    "#Single level Inheritance\n",
    "class A:\n",
    "    def m1(self):\n",
    "        print('Parent class')\n",
    "class B(A):\n",
    "    def m2(self):\n",
    "        print(\"Child class method\")\n",
    "        \n",
    "c = B()\n",
    "c.m1()\n",
    "c.m2()"
   ]
  },
  {
   "cell_type": "code",
   "execution_count": 37,
   "id": "96e9e9e5",
   "metadata": {},
   "outputs": [
    {
     "name": "stdout",
     "output_type": "stream",
     "text": [
      "parent method\n",
      "Child method\n",
      "sub child\n"
     ]
    }
   ],
   "source": [
    "#multilevel:\n",
    "class P:\n",
    "    def m1(self):\n",
    "        print('parent method')\n",
    "class C(P):\n",
    "    def m2(self):\n",
    "        print(\"Child method\")\n",
    "class CC(C):\n",
    "    def m3(self):\n",
    "        print(\"sub child\")\n",
    "        \n",
    "c  = CC()\n",
    "c.m1()\n",
    "c.m2()\n",
    "c.m3()"
   ]
  },
  {
   "cell_type": "code",
   "execution_count": 43,
   "id": "5333a35b",
   "metadata": {},
   "outputs": [
    {
     "name": "stdout",
     "output_type": "stream",
     "text": [
      "parent method\n",
      "Child method\n",
      "parent method\n",
      "sub child\n"
     ]
    }
   ],
   "source": [
    "#Hierachical inheritance\n",
    "# Single parent \n",
    "# two child classes inheriting same parent class\n",
    "class P:\n",
    "    def m1(self):\n",
    "        print('parent method')\n",
    "class Q(P):\n",
    "    def m2(self):\n",
    "        print(\"Child method\")\n",
    "class R(P):\n",
    "    def m3(self):\n",
    "        print(\"sub child\")\n",
    "        \n",
    "c1 = Q()\n",
    "c1.m1()\n",
    "c1.m2()\n",
    "\n",
    "c1 = R()\n",
    "c1.m1()\n",
    "c1.m3()"
   ]
  },
  {
   "cell_type": "code",
   "execution_count": null,
   "id": "a439b570",
   "metadata": {},
   "outputs": [],
   "source": [
    "# example:\n",
    "# object:\n",
    "\n",
    "\n",
    "s = Student()\n",
    "s.talk()"
   ]
  }
 ],
 "metadata": {
  "kernelspec": {
   "display_name": "Python 3 (ipykernel)",
   "language": "python",
   "name": "python3"
  },
  "language_info": {
   "codemirror_mode": {
    "name": "ipython",
    "version": 3
   },
   "file_extension": ".py",
   "mimetype": "text/x-python",
   "name": "python",
   "nbconvert_exporter": "python",
   "pygments_lexer": "ipython3",
   "version": "3.9.7"
  }
 },
 "nbformat": 4,
 "nbformat_minor": 5
}
