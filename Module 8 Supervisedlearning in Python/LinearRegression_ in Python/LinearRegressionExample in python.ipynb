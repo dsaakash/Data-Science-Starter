{
 "cells": [
  {
   "cell_type": "code",
   "execution_count": null,
   "id": "31bd3e2e",
   "metadata": {},
   "outputs": [],
   "source": [
    "#Mathematics behind Linear Regression "
   ]
  },
  {
   "cell_type": "code",
   "execution_count": 18,
   "id": "8937709d",
   "metadata": {},
   "outputs": [],
   "source": [
    "#Step1: import all libraries \n",
    "\n",
    "import numpy as np\n",
    "import matplotlib.pyplot as plt\n",
    "%matplotlib inline"
   ]
  },
  {
   "cell_type": "code",
   "execution_count": 28,
   "id": "27801a52",
   "metadata": {},
   "outputs": [
    {
     "name": "stdout",
     "output_type": "stream",
     "text": [
      "Estimated Coefficients \n",
      "b0 = -1.4583333333332575  \n",
      "b1 = 156.62878787878788\n"
     ]
    },
    {
     "data": {
      "image/png": "[encoded data removed]",
      "text/plain": [
       "<Figure size 432x288 with 1 Axes>"
      ]
     },
     "metadata": {
      "needs_background": "light"
     },
     "output_type": "display_data"
    }
   ],
   "source": [
    "#where x is consodered as House size ranges from 1000 -10000sqfeet\n",
    "#where y --> cost of house ranges from 300000 to 1200000\n",
    "# Create an userdefined function to Estimating coefficients x and y:\n",
    "\n",
    "def estimate_coefficients(x,y):\n",
    "    #no of observation \n",
    "    n = np.size(x)\n",
    "    #Calculate mean\n",
    "    mean_x, mean_y = np.mean(x),np.mean(y)\n",
    "    #Sum of square errors\n",
    "    SS_xy = np.sum(x*y-n*mean_y*mean_x)\n",
    "    SS_xx = np.sum(x*x-n*mean_x*mean_x)\n",
    "    \n",
    "    #Calculating Regression line to line move points \n",
    "    b1 =  SS_xy/SS_xx\n",
    "    b0 =  mean_y - b1*mean_x\n",
    "    return(b0,b1)\n",
    "\n",
    "# we have to define function to plot an regression line \n",
    "\n",
    "def plot_regression(x,y,b):\n",
    "    plt.scatter(x,y,color='m',marker=\"o\")\n",
    "    #create an predicted response vector\n",
    "    y_predicted = b[0]+b[1]*x\n",
    "    plt.plot(x,y_predicted,color='g')\n",
    "    plt.xlabel('Size of House')\n",
    "    plt.ylabel('Cost of House')\n",
    "    plt.show()\n",
    "    \n",
    "    \n",
    "#create two array variables x and y \n",
    "\n",
    "x = np.array([1,2,3,4,5,6,7,8,9,10])\n",
    "\n",
    "y = np.array([300,350,500,700,800,850,900,1000,1200, 2000])\n",
    "\n",
    "b = estimate_coefficients(x,y)\n",
    "\n",
    "# print estimated coefficients \n",
    "\n",
    "print(\"Estimated Coefficients \\nb0 = {}  \\nb1 = {}\" .format(b[0],b[1]))\n",
    "\n",
    "plot_regression(x,y,b)   "
   ]
  },
  {
   "cell_type": "code",
   "execution_count": null,
   "id": "3404617d",
   "metadata": {},
   "outputs": [],
   "source": [
    "#2nd method Impemeting lR using sckitlearn"
   ]
  }
 ],
 "metadata": {
  "kernelspec": {
   "display_name": "Python 3 (ipykernel)",
   "language": "python",
   "name": "python3"
  },
  "language_info": {
   "codemirror_mode": {
    "name": "ipython",
    "version": 3
   },
   "file_extension": ".py",
   "mimetype": "text/x-python",
   "name": "python",
   "nbconvert_exporter": "python",
   "pygments_lexer": "ipython3",
   "version": "3.9.7"
  }
 },
 "nbformat": 4,
 "nbformat_minor": 5
}
