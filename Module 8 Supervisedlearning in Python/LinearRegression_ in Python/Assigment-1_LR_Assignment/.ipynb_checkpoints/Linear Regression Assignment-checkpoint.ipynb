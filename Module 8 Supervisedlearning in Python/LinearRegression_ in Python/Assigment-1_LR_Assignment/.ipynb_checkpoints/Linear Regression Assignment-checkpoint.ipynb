{
 "cells": [
  {
   "cell_type": "markdown",
   "id": "abf94dbc",
   "metadata": {},
   "source": [
    "# Problem Statement:\n",
    "* You work in XYZ Company as a Python Data Scientist. The company officials have collected some data\n",
    "*  on salaries based on year of experience and wish for you to create a model from it.\n",
    "### Tasks to be performed:\n",
    "1. Load the dataset using pandas\n",
    "2. Extract data fromYearsExperience column is a variable named X\n",
    "3. Extract data from salary column is a variable named Y\n",
    "4. Divide the dataset into two parts for training and testing in 66% and 33% proportion\n",
    "5. Create and train LinearRegression Model on training set\n",
    "6. Make predictions based on the testing set using the trained model\n",
    "7. Check the performance by calculating the r2 score of the mode"
   ]
  },
  {
   "cell_type": "code",
   "execution_count": 1,
   "id": "fa5b2742",
   "metadata": {},
   "outputs": [],
   "source": [
    "import pandas as pd"
   ]
  },
  {
   "cell_type": "markdown",
   "id": "490a99a3",
   "metadata": {},
   "source": [
    "## 1 Loading dataset from pandas "
   ]
  },
  {
   "cell_type": "code",
   "execution_count": 2,
   "id": "d2127cb4",
   "metadata": {},
   "outputs": [
    {
     "data": {
      "text/html": [
       "<div>\n",
       "<style scoped>\n",
       "    .dataframe tbody tr th:only-of-type {\n",
       "        vertical-align: middle;\n",
       "    }\n",
       "\n",
       "    .dataframe tbody tr th {\n",
       "        vertical-align: top;\n",
       "    }\n",
       "\n",
       "    .dataframe thead th {\n",
       "        text-align: right;\n",
       "    }\n",
       "</style>\n",
       "<table border=\"1\" class=\"dataframe\">\n",
       "  <thead>\n",
       "    <tr style=\"text-align: right;\">\n",
       "      <th></th>\n",
       "      <th>YearsExperience</th>\n",
       "      <th>Salary</th>\n",
       "    </tr>\n",
       "  </thead>\n",
       "  <tbody>\n",
       "    <tr>\n",
       "      <th>0</th>\n",
       "      <td>1.1</td>\n",
       "      <td>39343.0</td>\n",
       "    </tr>\n",
       "    <tr>\n",
       "      <th>1</th>\n",
       "      <td>1.3</td>\n",
       "      <td>46205.0</td>\n",
       "    </tr>\n",
       "    <tr>\n",
       "      <th>2</th>\n",
       "      <td>1.5</td>\n",
       "      <td>37731.0</td>\n",
       "    </tr>\n",
       "    <tr>\n",
       "      <th>3</th>\n",
       "      <td>2.0</td>\n",
       "      <td>43525.0</td>\n",
       "    </tr>\n",
       "    <tr>\n",
       "      <th>4</th>\n",
       "      <td>2.2</td>\n",
       "      <td>39891.0</td>\n",
       "    </tr>\n",
       "  </tbody>\n",
       "</table>\n",
       "</div>"
      ],
      "text/plain": [
       "   YearsExperience   Salary\n",
       "0              1.1  39343.0\n",
       "1              1.3  46205.0\n",
       "2              1.5  37731.0\n",
       "3              2.0  43525.0\n",
       "4              2.2  39891.0"
      ]
     },
     "execution_count": 2,
     "metadata": {},
     "output_type": "execute_result"
    }
   ],
   "source": [
    "dataset =  pd.read_csv('data.csv')\n",
    "dataset.head()"
   ]
  },
  {
   "cell_type": "markdown",
   "id": "083d2db2",
   "metadata": {},
   "source": [
    "# 2 Extract data fromYearsExperience column is a variable named X"
   ]
  },
  {
   "cell_type": "code",
   "execution_count": 3,
   "id": "8d0363fb",
   "metadata": {},
   "outputs": [
    {
     "data": {
      "text/plain": [
       "0    1.1\n",
       "1    1.3\n",
       "2    1.5\n",
       "3    2.0\n",
       "4    2.2\n",
       "Name: YearsExperience, dtype: float64"
      ]
     },
     "execution_count": 3,
     "metadata": {},
     "output_type": "execute_result"
    }
   ],
   "source": [
    "X = dataset['YearsExperience']\n",
    "X.head()"
   ]
  },
  {
   "cell_type": "markdown",
   "id": "4e072acb",
   "metadata": {},
   "source": [
    "# 3 Extract data from salary column is a variable named Y"
   ]
  },
  {
   "cell_type": "code",
   "execution_count": 4,
   "id": "12afcdac",
   "metadata": {},
   "outputs": [
    {
     "data": {
      "text/plain": [
       "0    39343.0\n",
       "1    46205.0\n",
       "2    37731.0\n",
       "3    43525.0\n",
       "4    39891.0\n",
       "Name: Salary, dtype: float64"
      ]
     },
     "execution_count": 4,
     "metadata": {},
     "output_type": "execute_result"
    }
   ],
   "source": [
    "Y = dataset[\"Salary\"]\n",
    "Y.head()"
   ]
  },
  {
   "cell_type": "markdown",
   "id": "c753dcb5",
   "metadata": {},
   "source": [
    "# 4 Divide the dataset into two parts for training and testing in 66% and 33% proportion"
   ]
  },
  {
   "cell_type": "code",
   "execution_count": 5,
   "id": "acdfa585",
   "metadata": {},
   "outputs": [],
   "source": [
    "#preparing a data\n",
    "X = pd.DataFrame(dataset['YearsExperience'])\n",
    "Y = pd.DataFrame(dataset[\"Salary\"])\n",
    "\n",
    "\n",
    "\n",
    "#Divide the dataset into two parts for training and testing in 66% and 33% proportion\n",
    "from sklearn.model_selection import train_test_split\n",
    "\n",
    "X_train,X_test,Y_train,Y_test = train_test_split(X,Y,train_size=0.66,test_size=0.33,random_state=1)"
   ]
  },
  {
   "cell_type": "code",
   "execution_count": 6,
   "id": "8d3f47b3",
   "metadata": {},
   "outputs": [
    {
     "name": "stdout",
     "output_type": "stream",
     "text": [
      "(19, 1)\n",
      "(10, 1)\n",
      "(19, 1)\n",
      "(10, 1)\n"
     ]
    }
   ],
   "source": [
    "print(X_train.shape)\n",
    "print(X_test.shape)\n",
    "print(Y_train.shape)\n",
    "print(Y_test.shape)"
   ]
  },
  {
   "cell_type": "markdown",
   "id": "f50b984b",
   "metadata": {},
   "source": [
    "# 5 Create and train LinearRegression Model on training set"
   ]
  },
  {
   "cell_type": "code",
   "execution_count": 7,
   "id": "7d277f7c",
   "metadata": {},
   "outputs": [
    {
     "data": {
      "text/plain": [
       "LinearRegression()"
      ]
     },
     "execution_count": 7,
     "metadata": {},
     "output_type": "execute_result"
    }
   ],
   "source": [
    "from sklearn.linear_model import LinearRegression\n",
    "regressor = LinearRegression()\n",
    "regressor.fit(X_train,Y_train)"
   ]
  },
  {
   "cell_type": "code",
   "execution_count": 8,
   "id": "153353cb",
   "metadata": {},
   "outputs": [
    {
     "data": {
      "text/html": [
       "<div>\n",
       "<style scoped>\n",
       "    .dataframe tbody tr th:only-of-type {\n",
       "        vertical-align: middle;\n",
       "    }\n",
       "\n",
       "    .dataframe tbody tr th {\n",
       "        vertical-align: top;\n",
       "    }\n",
       "\n",
       "    .dataframe thead th {\n",
       "        text-align: right;\n",
       "    }\n",
       "</style>\n",
       "<table border=\"1\" class=\"dataframe\">\n",
       "  <thead>\n",
       "    <tr style=\"text-align: right;\">\n",
       "      <th></th>\n",
       "      <th>YearsExperience</th>\n",
       "      <th>Salary</th>\n",
       "    </tr>\n",
       "  </thead>\n",
       "  <tbody>\n",
       "    <tr>\n",
       "      <th>0</th>\n",
       "      <td>1.1</td>\n",
       "      <td>39343.0</td>\n",
       "    </tr>\n",
       "    <tr>\n",
       "      <th>1</th>\n",
       "      <td>1.3</td>\n",
       "      <td>46205.0</td>\n",
       "    </tr>\n",
       "    <tr>\n",
       "      <th>2</th>\n",
       "      <td>1.5</td>\n",
       "      <td>37731.0</td>\n",
       "    </tr>\n",
       "    <tr>\n",
       "      <th>3</th>\n",
       "      <td>2.0</td>\n",
       "      <td>43525.0</td>\n",
       "    </tr>\n",
       "    <tr>\n",
       "      <th>4</th>\n",
       "      <td>2.2</td>\n",
       "      <td>39891.0</td>\n",
       "    </tr>\n",
       "  </tbody>\n",
       "</table>\n",
       "</div>"
      ],
      "text/plain": [
       "   YearsExperience   Salary\n",
       "0              1.1  39343.0\n",
       "1              1.3  46205.0\n",
       "2              1.5  37731.0\n",
       "3              2.0  43525.0\n",
       "4              2.2  39891.0"
      ]
     },
     "execution_count": 8,
     "metadata": {},
     "output_type": "execute_result"
    }
   ],
   "source": [
    "dataset_ = dataset.loc[:,['YearsExperience','Salary']]\n",
    "dataset_.head(5)"
   ]
  },
  {
   "cell_type": "code",
   "execution_count": 9,
   "id": "4e36e234",
   "metadata": {},
   "outputs": [
    {
     "name": "stdout",
     "output_type": "stream",
     "text": [
      "[25688.30996043]\n"
     ]
    }
   ],
   "source": [
    "print(regressor.intercept_)"
   ]
  },
  {
   "cell_type": "code",
   "execution_count": 10,
   "id": "735f408c",
   "metadata": {},
   "outputs": [
    {
     "name": "stdout",
     "output_type": "stream",
     "text": [
      "[[9206.48851004]]\n"
     ]
    }
   ],
   "source": [
    "print(regressor.coef_)"
   ]
  },
  {
   "cell_type": "markdown",
   "id": "e59311a2",
   "metadata": {},
   "source": [
    "# Q6 Make predictions based on the testing set using the trained model\n"
   ]
  },
  {
   "cell_type": "code",
   "execution_count": 11,
   "id": "871e63b7",
   "metadata": {},
   "outputs": [],
   "source": [
    "y_pred = regressor.predict(X_test)\n",
    "y_pred = pd.DataFrame(y_pred, columns=['Predicted'])"
   ]
  },
  {
   "cell_type": "markdown",
   "id": "cab276e1",
   "metadata": {},
   "source": [
    "# 7. Check the performance by calculating the r2 score of the mode"
   ]
  },
  {
   "cell_type": "code",
   "execution_count": 12,
   "id": "093b7308",
   "metadata": {},
   "outputs": [
    {
     "name": "stdout",
     "output_type": "stream",
     "text": [
      "Mean Absolute Error 5083.714979847047\n",
      "Mean Squared Error 38260102.30786227\n",
      "Root Mean Squared Error 6185.47510769078\n"
     ]
    }
   ],
   "source": [
    "from sklearn import metrics\n",
    "import numpy as np\n",
    "print(\"Mean Absolute Error\",metrics.mean_absolute_error(Y_test,y_pred))\n",
    "print(\"Mean Squared Error\",metrics.mean_squared_error(Y_test,y_pred))\n",
    "print(\"Root Mean Squared Error\",np.sqrt(metrics.mean_squared_error(Y_test,y_pred)))"
   ]
  },
  {
   "cell_type": "markdown",
   "id": "ee8a67a1",
   "metadata": {},
   "source": []
  },
  {
   "cell_type": "code",
   "execution_count": null,
   "id": "11b7fe2d",
   "metadata": {},
   "outputs": [],
   "source": []
  }
 ],
 "metadata": {
  "kernelspec": {
   "display_name": "Python 3 (ipykernel)",
   "language": "python",
   "name": "python3"
  },
  "language_info": {
   "codemirror_mode": {
    "name": "ipython",
    "version": 3
   },
   "file_extension": ".py",
   "mimetype": "text/x-python",
   "name": "python",
   "nbconvert_exporter": "python",
   "pygments_lexer": "ipython3",
   "version": "3.9.7"
  }
 },
 "nbformat": 4,
 "nbformat_minor": 5
}
