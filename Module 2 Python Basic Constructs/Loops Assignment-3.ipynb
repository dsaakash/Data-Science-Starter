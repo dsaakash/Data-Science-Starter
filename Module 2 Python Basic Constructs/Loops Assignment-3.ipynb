{
 "cells": [
  {
   "cell_type": "markdown",
   "id": "eec2db67",
   "metadata": {},
   "source": [
    "#### Problem Statement:\n",
    "* You work in XYZ Corporation as a Data Analyst. Your company has   told you to work with the If-Else Conditions"
   ]
  },
  {
   "cell_type": "markdown",
   "id": "b310c1f3",
   "metadata": {},
   "source": [
    "* Tasks to be performed:\n",
    "     Create an array that is having user defined inputs and            with the help of for loop, fetch all the prime\n",
    "     numbers and print the numbers."
   ]
  },
  {
   "cell_type": "code",
   "execution_count": 7,
   "id": "cd2c0aff",
   "metadata": {},
   "outputs": [
    {
     "name": "stdout",
     "output_type": "stream",
     "text": [
      "Enter lower:78\n",
      "Enterr upper value upto:100\n",
      "Prime numbers between 78 and 100 are:\n",
      "79\n",
      "83\n",
      "89\n",
      "97\n"
     ]
    }
   ],
   "source": [
    "# Python program to display all the prime numbers within an interval\n",
    "#taker lower and upper values from user:\n",
    "lower = int(input(\"Enter lower:\"))\n",
    "upper = int(input(\"Enterr upper value upto:\"))\n",
    "\n",
    "\n",
    "#print lower and upper values in console\n",
    "\n",
    "print(\"Prime numbers between\", lower, \"and\", upper, \"are:\")\n",
    "\n",
    "for num in range(lower, upper + 1):\n",
    "   # all prime numbers are greater than 1\n",
    "   if num > 1:\n",
    "       for i in range(2, num):\n",
    "           if (num % i) == 0:\n",
    "               break\n",
    "       else:\n",
    "           print(num)"
   ]
  },
  {
   "cell_type": "code",
   "execution_count": 11,
   "id": "b50cd9d5",
   "metadata": {},
   "outputs": [
    {
     "ename": "SyntaxError",
     "evalue": "invalid syntax (Temp/ipykernel_15656/1477925891.py, line 1)",
     "output_type": "error",
     "traceback": [
      "\u001b[1;36m  File \u001b[1;32m\"C:\\Users\\INTELL~1\\AppData\\Local\\Temp/ipykernel_15656/1477925891.py\"\u001b[1;36m, line \u001b[1;32m1\u001b[0m\n\u001b[1;33m    set s = {3, 4, 1, 2}\u001b[0m\n\u001b[1;37m        ^\u001b[0m\n\u001b[1;31mSyntaxError\u001b[0m\u001b[1;31m:\u001b[0m invalid syntax\n"
     ]
    }
   ],
   "source": [
    "set s = {3, 4, 1, 2}\n",
    "\n",
    "\n",
    "print(max(s))"
   ]
  },
  {
   "cell_type": "code",
   "execution_count": null,
   "id": "01054520",
   "metadata": {},
   "outputs": [],
   "source": []
  }
 ],
 "metadata": {
  "kernelspec": {
   "display_name": "Python 3 (ipykernel)",
   "language": "python",
   "name": "python3"
  },
  "language_info": {
   "codemirror_mode": {
    "name": "ipython",
    "version": 3
   },
   "file_extension": ".py",
   "mimetype": "text/x-python",
   "name": "python",
   "nbconvert_exporter": "python",
   "pygments_lexer": "ipython3",
   "version": "3.9.7"
  }
 },
 "nbformat": 4,
 "nbformat_minor": 5
}
