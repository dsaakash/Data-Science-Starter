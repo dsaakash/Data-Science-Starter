{
 "cells": [
  {
   "cell_type": "markdown",
   "id": "d0fbcadd",
   "metadata": {},
   "source": [
    "#### Problem Statement:\n",
    "You Work in XYZ Corporation as a Data Analyst. Your Company has told you to work with if-else Conditions"
   ]
  },
  {
   "cell_type": "code",
   "execution_count": 1,
   "id": "76d7b746",
   "metadata": {},
   "outputs": [],
   "source": [
    "### Tasks to be Performed"
   ]
  },
  {
   "cell_type": "markdown",
   "id": "b780ea58",
   "metadata": {},
   "source": [
    "#### Create a list that is having 10,23,4,26,4,75,24,54 values and with help of while loop ,fetch even numbers and print numbers"
   ]
  },
  {
   "cell_type": "markdown",
   "id": "6c09b1c3",
   "metadata": {},
   "source": [
    "##### Steps to follow solve this problem Statement \n",
    "\n",
    "* take a list named list1\n",
    "* using while loop whether number is less than length of list of \n",
    "  list1\n",
    "*  check whether list1[number] whether even or not\n",
    "*  print list of numbers which are and then incremment number by    1"
   ]
  },
  {
   "cell_type": "code",
   "execution_count": 3,
   "id": "af7e180a",
   "metadata": {},
   "outputs": [
    {
     "name": "stdout",
     "output_type": "stream",
     "text": [
      "10 4 26 4 24 54 "
     ]
    }
   ],
   "source": [
    "# list of numbers\n",
    "list1 = [10,23,4,26,4,75,24,54]\n",
    "num = 0\n",
    " \n",
    "# using while loop\n",
    "while(num < len(list1)):\n",
    " \n",
    "    # checking condition\n",
    "    if list1[num] % 2 == 0:\n",
    "        print(list1[num], end=\" \")\n",
    " \n",
    "    # increment\n",
    "    num += 1\n",
    "\n"
   ]
  },
  {
   "cell_type": "code",
   "execution_count": null,
   "id": "e068fec5",
   "metadata": {},
   "outputs": [],
   "source": []
  }
 ],
 "metadata": {
  "kernelspec": {
   "display_name": "Python 3 (ipykernel)",
   "language": "python",
   "name": "python3"
  },
  "language_info": {
   "codemirror_mode": {
    "name": "ipython",
    "version": 3
   },
   "file_extension": ".py",
   "mimetype": "text/x-python",
   "name": "python",
   "nbconvert_exporter": "python",
   "pygments_lexer": "ipython3",
   "version": "3.9.7"
  }
 },
 "nbformat": 4,
 "nbformat_minor": 5
}
