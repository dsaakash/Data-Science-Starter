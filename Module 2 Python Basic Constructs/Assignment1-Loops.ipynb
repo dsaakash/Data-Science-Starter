{
 "cells": [
  {
   "cell_type": "markdown",
   "id": "cd516218",
   "metadata": {},
   "source": [
    "#### Problem Statement:\n",
    "You Work in XYZ Corporation as a Data Analyst. Your Company has told you to work with if-else Conditions"
   ]
  },
  {
   "cell_type": "markdown",
   "id": "9501a253",
   "metadata": {},
   "source": [
    "#### Tasks to be Performed\n",
    "* Print numbers from 1 to 10 using while loop"
   ]
  },
  {
   "cell_type": "markdown",
   "id": "fe84331d",
   "metadata": {},
   "source": [
    "###### takes input from user \n",
    "##### Checks an condition whther number < or eaual to 10:\n",
    "* follows task to follow \n",
    "* if it is less than number we will increse by one value"
   ]
  },
  {
   "cell_type": "code",
   "execution_count": 4,
   "id": "b209153b",
   "metadata": {},
   "outputs": [
    {
     "name": "stdout",
     "output_type": "stream",
     "text": [
      "Enter numbers from 1 to 10:1\n",
      "1\n",
      "2\n",
      "3\n",
      "4\n",
      "5\n",
      "6\n",
      "7\n",
      "8\n",
      "9\n",
      "10\n"
     ]
    }
   ],
   "source": [
    "num = int(input(\"Enter numbers from 1 to 10:\"))\n",
    "while(num<=10):\n",
    "    print(num)\n",
    "    num += 1"
   ]
  },
  {
   "cell_type": "code",
   "execution_count": null,
   "id": "b0a07e69",
   "metadata": {},
   "outputs": [],
   "source": []
  }
 ],
 "metadata": {
  "kernelspec": {
   "display_name": "Python 3 (ipykernel)",
   "language": "python",
   "name": "python3"
  },
  "language_info": {
   "codemirror_mode": {
    "name": "ipython",
    "version": 3
   },
   "file_extension": ".py",
   "mimetype": "text/x-python",
   "name": "python",
   "nbconvert_exporter": "python",
   "pygments_lexer": "ipython3",
   "version": "3.9.7"
  }
 },
 "nbformat": 4,
 "nbformat_minor": 5
}
