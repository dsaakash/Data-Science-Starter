{
 "cells": [
  {
   "cell_type": "code",
   "execution_count": 70,
   "id": "0ec497d5",
   "metadata": {},
   "outputs": [],
   "source": [
    "# 1\n",
    "#Given a sample list, tuple and a set with elements as numbers from 1-10. \n",
    "#Convert each of the data types into a pandas series. \n",
    "#Create a separate list of index values for the series. \n"
   ]
  },
  {
   "cell_type": "code",
   "execution_count": 2,
   "id": "ef924ad5",
   "metadata": {},
   "outputs": [],
   "source": [
    "import pandas as pd\n",
    "list1 = [1,2,3,4,5,6,7,8,9,10]\n",
    "tup1  = (1,2,3,4,5,6,7,8,9,10)\n",
    "set1 = {1,2,3,4,5,6,7,8,9,10}\n",
    "\n",
    "series1 = pd.Series(list1, index = ['a','b','c','d','e','f','g','h','i','j'])\n",
    "series2 = pd.Series(tup1,index = ['a','b','c','d','e','f','g','h','i','j'])\n",
    "#series3 = pd.Series(set1)"
   ]
  },
  {
   "cell_type": "code",
   "execution_count": 3,
   "id": "53194250",
   "metadata": {},
   "outputs": [
    {
     "data": {
      "text/plain": [
       "a     1\n",
       "b     2\n",
       "c     3\n",
       "d     4\n",
       "e     5\n",
       "f     6\n",
       "g     7\n",
       "h     8\n",
       "i     9\n",
       "j    10\n",
       "dtype: int64"
      ]
     },
     "execution_count": 3,
     "metadata": {},
     "output_type": "execute_result"
    }
   ],
   "source": [
    "series2"
   ]
  },
  {
   "cell_type": "code",
   "execution_count": 4,
   "id": "62905266",
   "metadata": {},
   "outputs": [],
   "source": [
    "# 2. Create a python dictionary with three key value pairs.\n",
    "#Keep the keys as the first names, and the respective last names as values in the dictionary.\n",
    "#Use the dictionary to create a pandas series.\n"
   ]
  },
  {
   "cell_type": "code",
   "execution_count": 5,
   "id": "68773d93",
   "metadata": {},
   "outputs": [],
   "source": [
    "dict1 = {\"fname\":\"Rajesh\",\"mname\":\"Kumar\",\"lname\":\"Verma\"}"
   ]
  },
  {
   "cell_type": "code",
   "execution_count": 6,
   "id": "0d506efd",
   "metadata": {},
   "outputs": [
    {
     "data": {
      "text/plain": [
       "{'fname': 'Rajesh', 'mname': 'Kumar', 'lname': 'Verma'}"
      ]
     },
     "execution_count": 6,
     "metadata": {},
     "output_type": "execute_result"
    }
   ],
   "source": [
    "dict1"
   ]
  },
  {
   "cell_type": "code",
   "execution_count": 7,
   "id": "98e18c7f",
   "metadata": {},
   "outputs": [],
   "source": [
    "series1 = pd.Series(dict1)"
   ]
  },
  {
   "cell_type": "code",
   "execution_count": 8,
   "id": "6df58111",
   "metadata": {},
   "outputs": [
    {
     "data": {
      "text/plain": [
       "fname    Rajesh\n",
       "mname     Kumar\n",
       "lname     Verma\n",
       "dtype: object"
      ]
     },
     "execution_count": 8,
     "metadata": {},
     "output_type": "execute_result"
    }
   ],
   "source": [
    "series1"
   ]
  },
  {
   "cell_type": "code",
   "execution_count": 9,
   "id": "2430b842",
   "metadata": {},
   "outputs": [
    {
     "data": {
      "text/plain": [
       "3.0"
      ]
     },
     "execution_count": 9,
     "metadata": {},
     "output_type": "execute_result"
    }
   ],
   "source": [
    "3. #Create a pandas series, with the elements as numbers from 1-10. Use the index values starting from 0-10. For the above series:\n",
    "#Convert it to a list.\n",
    "#Convert it to a dictionary.\n",
    "#Convert it to a tuple.\n",
    "#Convert it to a set\n"
   ]
  },
  {
   "cell_type": "code",
   "execution_count": 10,
   "id": "c8d15709",
   "metadata": {},
   "outputs": [
    {
     "data": {
      "text/plain": [
       "0     1\n",
       "1     2\n",
       "2     3\n",
       "3     4\n",
       "4     5\n",
       "5     6\n",
       "6     7\n",
       "7     8\n",
       "8     9\n",
       "9    10\n",
       "dtype: int64"
      ]
     },
     "execution_count": 10,
     "metadata": {},
     "output_type": "execute_result"
    }
   ],
   "source": [
    "series1 = pd.Series(range(1,11))\n",
    "series1"
   ]
  },
  {
   "cell_type": "code",
   "execution_count": 11,
   "id": "cde57e7c",
   "metadata": {},
   "outputs": [
    {
     "name": "stdout",
     "output_type": "stream",
     "text": [
      "[1, 2, 3, 4, 5, 6, 7, 8, 9, 10]\n"
     ]
    }
   ],
   "source": [
    "list1 = list(series1)\n",
    "print(list1)\n"
   ]
  },
  {
   "cell_type": "code",
   "execution_count": 12,
   "id": "f7c063a2",
   "metadata": {},
   "outputs": [
    {
     "name": "stdout",
     "output_type": "stream",
     "text": [
      "{0: 1, 1: 2, 2: 3, 3: 4, 4: 5, 5: 6, 6: 7, 7: 8, 8: 9, 9: 10}\n"
     ]
    }
   ],
   "source": [
    "dict1 = dict(series1)\n",
    "print(dict1)"
   ]
  },
  {
   "cell_type": "code",
   "execution_count": 13,
   "id": "22538f2e",
   "metadata": {},
   "outputs": [
    {
     "data": {
      "text/plain": [
       "(1, 2, 3, 4, 5, 6, 7, 8, 9, 10)"
      ]
     },
     "execution_count": 13,
     "metadata": {},
     "output_type": "execute_result"
    }
   ],
   "source": [
    "tup1 = tuple(series1)\n",
    "tup1"
   ]
  },
  {
   "cell_type": "code",
   "execution_count": 14,
   "id": "1457a6c6",
   "metadata": {},
   "outputs": [],
   "source": [
    "set1 = set(series1)"
   ]
  },
  {
   "cell_type": "code",
   "execution_count": 15,
   "id": "dfa2dae5",
   "metadata": {},
   "outputs": [
    {
     "data": {
      "text/plain": [
       "{1, 2, 3, 4, 5, 6, 7, 8, 9, 10}"
      ]
     },
     "execution_count": 15,
     "metadata": {},
     "output_type": "execute_result"
    }
   ],
   "source": [
    "set1"
   ]
  },
  {
   "cell_type": "code",
   "execution_count": 16,
   "id": "57672992",
   "metadata": {},
   "outputs": [
    {
     "data": {
      "text/plain": [
       "' 4. Create a sample pandas series with x integer elements. Perform the following operations on the same:\\nPrint the first 5 elements of the series\\nPrint the last 5 elements of the series\\nInsert an integer value ‘50’ at the index 5.\\nUpdate the last element in the series with the value 100.\\nDelete the first element from the series.\\n'"
      ]
     },
     "execution_count": 16,
     "metadata": {},
     "output_type": "execute_result"
    }
   ],
   "source": [
    " \"\"\" 4. Create a sample pandas series with x integer elements. Perform the following operations on the same:\n",
    "Print the first 5 elements of the series\n",
    "Print the last 5 elements of the series\n",
    "Insert an integer value ‘50’ at the index 5.\n",
    "Update the last element in the series with the value 100.\n",
    "Delete the first element from the series.\n",
    "\"\"\""
   ]
  },
  {
   "cell_type": "code",
   "execution_count": 17,
   "id": "4fbaf6d0",
   "metadata": {},
   "outputs": [
    {
     "name": "stdout",
     "output_type": "stream",
     "text": [
      "0    1\n",
      "1    2\n",
      "2    3\n",
      "3    4\n",
      "4    5\n",
      "dtype: int64\n"
     ]
    }
   ],
   "source": [
    "series1 = pd.Series([1,2,3,4,5,6,7,8,9,10])\n",
    "print(series1[0:5])"
   ]
  },
  {
   "cell_type": "code",
   "execution_count": 18,
   "id": "fe7c8041",
   "metadata": {},
   "outputs": [
    {
     "name": "stdout",
     "output_type": "stream",
     "text": [
      "5     6\n",
      "6     7\n",
      "7     8\n",
      "8     9\n",
      "9    10\n",
      "dtype: int64\n"
     ]
    }
   ],
   "source": [
    "print(series1[-5:])"
   ]
  },
  {
   "cell_type": "code",
   "execution_count": 19,
   "id": "780deafc",
   "metadata": {},
   "outputs": [
    {
     "name": "stdout",
     "output_type": "stream",
     "text": [
      "0      1\n",
      "1      2\n",
      "2      3\n",
      "3      4\n",
      "4      5\n",
      "5     50\n",
      "6      6\n",
      "7      7\n",
      "8      8\n",
      "9      9\n",
      "10    10\n",
      "dtype: int64\n"
     ]
    }
   ],
   "source": [
    "list1 = list(series1)\n",
    "list1.insert(5, 50)\n",
    "series2 = pd.Series(list1)\n",
    "print(series2)"
   ]
  },
  {
   "cell_type": "code",
   "execution_count": 20,
   "id": "49005e8f",
   "metadata": {},
   "outputs": [
    {
     "name": "stdout",
     "output_type": "stream",
     "text": [
      "0       1\n",
      "1       2\n",
      "2       3\n",
      "3       4\n",
      "4       5\n",
      "5      50\n",
      "6       6\n",
      "7       7\n",
      "8       8\n",
      "9       9\n",
      "10    100\n",
      "dtype: int64\n"
     ]
    }
   ],
   "source": [
    "series2.iloc[10] = 100\n",
    "print(series2)"
   ]
  },
  {
   "cell_type": "code",
   "execution_count": 21,
   "id": "f313fab7",
   "metadata": {},
   "outputs": [
    {
     "name": "stdout",
     "output_type": "stream",
     "text": [
      "1       2\n",
      "2       3\n",
      "3       4\n",
      "4       5\n",
      "5      50\n",
      "6       6\n",
      "7       7\n",
      "8       8\n",
      "9       9\n",
      "10    100\n",
      "dtype: int64\n"
     ]
    }
   ],
   "source": [
    "series2 = series2.drop(0)\n",
    "print(series2)\n"
   ]
  },
  {
   "cell_type": "code",
   "execution_count": 22,
   "id": "9d55477e",
   "metadata": {},
   "outputs": [],
   "source": [
    "#5. For a given pandas series obtained in the 4th step. Write a sample code to find the element 100 in the series."
   ]
  },
  {
   "cell_type": "code",
   "execution_count": 23,
   "id": "a5660c37",
   "metadata": {},
   "outputs": [
    {
     "name": "stdout",
     "output_type": "stream",
     "text": [
      "yes we have element 100\n"
     ]
    }
   ],
   "source": [
    "for i in series2:\n",
    "    if i == 100:\n",
    "        print(\"yes we have element 100\")\n",
    "    "
   ]
  },
  {
   "cell_type": "code",
   "execution_count": 24,
   "id": "70365341",
   "metadata": {},
   "outputs": [],
   "source": [
    "#6.For the given series A and B, perform concatenation on the same. \n",
    "series_A = pd.Series([1,2,3,4,5])\n",
    "series_B = pd.Series([6,7,8,9,10])"
   ]
  },
  {
   "cell_type": "code",
   "execution_count": 25,
   "id": "bdaa0e44",
   "metadata": {},
   "outputs": [
    {
     "data": {
      "text/plain": [
       "0     1\n",
       "1     2\n",
       "2     3\n",
       "3     4\n",
       "4     5\n",
       "0     6\n",
       "1     7\n",
       "2     8\n",
       "3     9\n",
       "4    10\n",
       "dtype: int64"
      ]
     },
     "execution_count": 25,
     "metadata": {},
     "output_type": "execute_result"
    }
   ],
   "source": [
    "pd.concat((series_A,series_B))"
   ]
  },
  {
   "cell_type": "code",
   "execution_count": 26,
   "id": "9e7647d3",
   "metadata": {},
   "outputs": [
    {
     "name": "stdout",
     "output_type": "stream",
     "text": [
      "1\n",
      "2\n",
      "3\n",
      "4\n",
      "5\n",
      "6\n",
      "7\n",
      "8\n",
      "9\n",
      "10\n"
     ]
    }
   ],
   "source": [
    "#7.\n",
    "# Using loops in python, print all the elements within a pandas series. \n",
    "Sample = pd.Series([1,2,3,4,5,6,7,8,9,10])\n",
    "for i in Sample:\n",
    "    print(i)"
   ]
  },
  {
   "cell_type": "code",
   "execution_count": 27,
   "id": "2a06b6b4",
   "metadata": {},
   "outputs": [],
   "source": [
    "# 8.\n",
    "#For a given nested list and a sample dictionary, create two data frames using pandas. \n",
    "#List = [['AA','BB','CC'], ['DD','EE','FF'], ['GG','HH','II']]\n",
    "#Dictionary = { 'Kris': ['Jordan', 12,22],'Memphis': ['Depay', 23, 24]}\n"
   ]
  },
  {
   "cell_type": "code",
   "execution_count": 28,
   "id": "cf268029",
   "metadata": {},
   "outputs": [],
   "source": [
    "List1 = [['AA','BB','CC'], ['DD','EE','FF'], ['GG','HH','II']]\n",
    "Dictionary1 = { 'Kris': ['Jordan', 12,22],'Memphis': ['Depay', 23, 24]}\n",
    "df1 = pd.DataFrame(List1)\n",
    "df2 = pd.DataFrame(Dictionary1)"
   ]
  },
  {
   "cell_type": "code",
   "execution_count": 29,
   "id": "d3a83ff7",
   "metadata": {},
   "outputs": [
    {
     "name": "stdout",
     "output_type": "stream",
     "text": [
      "    0   1   2\n",
      "0  AA  BB  CC\n",
      "1  DD  EE  FF\n",
      "2  GG  HH  II\n"
     ]
    }
   ],
   "source": [
    "print(df1)"
   ]
  },
  {
   "cell_type": "code",
   "execution_count": 30,
   "id": "4b40e998",
   "metadata": {},
   "outputs": [
    {
     "name": "stdout",
     "output_type": "stream",
     "text": [
      "     Kris Memphis\n",
      "0  Jordan   Depay\n",
      "1      12      23\n",
      "2      22      24\n"
     ]
    }
   ],
   "source": [
    "print(df2)"
   ]
  },
  {
   "cell_type": "code",
   "execution_count": 31,
   "id": "1c1749e0",
   "metadata": {},
   "outputs": [],
   "source": [
    "#9.\n",
    "#Create a pandas Dataframe  with two columns = [‘Name’, ‘Age’]. Perform the following operations on the same. \n",
    "#Insert 5 imaginary names and ages as values to the pandas Data Frame . \n",
    "#Print the first 3 rows of the Data Frame .\n",
    "#Print the rows that have the age greater than 15.\n",
    "#Update the 5th row so that the name = john and age=56. \n",
    "#Delete the first row from the Data Frame . \n"
   ]
  },
  {
   "cell_type": "code",
   "execution_count": 72,
   "id": "3929a17c",
   "metadata": {},
   "outputs": [
    {
     "data": {
      "text/html": [
       "<div>\n",
       "<style scoped>\n",
       "    .dataframe tbody tr th:only-of-type {\n",
       "        vertical-align: middle;\n",
       "    }\n",
       "\n",
       "    .dataframe tbody tr th {\n",
       "        vertical-align: top;\n",
       "    }\n",
       "\n",
       "    .dataframe thead th {\n",
       "        text-align: right;\n",
       "    }\n",
       "</style>\n",
       "<table border=\"1\" class=\"dataframe\">\n",
       "  <thead>\n",
       "    <tr style=\"text-align: right;\">\n",
       "      <th></th>\n",
       "      <th>Name</th>\n",
       "      <th>Age</th>\n",
       "    </tr>\n",
       "  </thead>\n",
       "  <tbody>\n",
       "    <tr>\n",
       "      <th>0</th>\n",
       "      <td>tom</td>\n",
       "      <td>10</td>\n",
       "    </tr>\n",
       "    <tr>\n",
       "      <th>1</th>\n",
       "      <td>nick</td>\n",
       "      <td>15</td>\n",
       "    </tr>\n",
       "    <tr>\n",
       "      <th>2</th>\n",
       "      <td>juli</td>\n",
       "      <td>14</td>\n",
       "    </tr>\n",
       "    <tr>\n",
       "      <th>3</th>\n",
       "      <td>rahul</td>\n",
       "      <td>50</td>\n",
       "    </tr>\n",
       "    <tr>\n",
       "      <th>4</th>\n",
       "      <td>joy</td>\n",
       "      <td>38</td>\n",
       "    </tr>\n",
       "  </tbody>\n",
       "</table>\n",
       "</div>"
      ],
      "text/plain": [
       "    Name  Age\n",
       "0    tom   10\n",
       "1   nick   15\n",
       "2   juli   14\n",
       "3  rahul   50\n",
       "4    joy   38"
      ]
     },
     "execution_count": 72,
     "metadata": {},
     "output_type": "execute_result"
    }
   ],
   "source": [
    "\n",
    "df1 = pd.DataFrame(data, columns=['Name','Age'])\n",
    "data = [['tom', 10], ['nick', 15], ['juli', 14],['rahul',50],['joy',38]]\n",
    "df1"
   ]
  },
  {
   "cell_type": "code",
   "execution_count": 33,
   "id": "664eff1b",
   "metadata": {},
   "outputs": [],
   "source": [
    "#df1.shape"
   ]
  },
  {
   "cell_type": "code",
   "execution_count": 34,
   "id": "8d7ae680",
   "metadata": {},
   "outputs": [
    {
     "data": {
      "text/html": [
       "<div>\n",
       "<style scoped>\n",
       "    .dataframe tbody tr th:only-of-type {\n",
       "        vertical-align: middle;\n",
       "    }\n",
       "\n",
       "    .dataframe tbody tr th {\n",
       "        vertical-align: top;\n",
       "    }\n",
       "\n",
       "    .dataframe thead th {\n",
       "        text-align: right;\n",
       "    }\n",
       "</style>\n",
       "<table border=\"1\" class=\"dataframe\">\n",
       "  <thead>\n",
       "    <tr style=\"text-align: right;\">\n",
       "      <th></th>\n",
       "      <th>Name</th>\n",
       "      <th>Age</th>\n",
       "    </tr>\n",
       "  </thead>\n",
       "  <tbody>\n",
       "    <tr>\n",
       "      <th>0</th>\n",
       "      <td>tom</td>\n",
       "      <td>10</td>\n",
       "    </tr>\n",
       "    <tr>\n",
       "      <th>1</th>\n",
       "      <td>nick</td>\n",
       "      <td>15</td>\n",
       "    </tr>\n",
       "    <tr>\n",
       "      <th>2</th>\n",
       "      <td>juli</td>\n",
       "      <td>14</td>\n",
       "    </tr>\n",
       "  </tbody>\n",
       "</table>\n",
       "</div>"
      ],
      "text/plain": [
       "   Name  Age\n",
       "0   tom   10\n",
       "1  nick   15\n",
       "2  juli   14"
      ]
     },
     "execution_count": 34,
     "metadata": {},
     "output_type": "execute_result"
    }
   ],
   "source": [
    "df1.iloc[0:3,:]"
   ]
  },
  {
   "cell_type": "code",
   "execution_count": 35,
   "id": "fa9aea38",
   "metadata": {},
   "outputs": [
    {
     "data": {
      "text/html": [
       "<div>\n",
       "<style scoped>\n",
       "    .dataframe tbody tr th:only-of-type {\n",
       "        vertical-align: middle;\n",
       "    }\n",
       "\n",
       "    .dataframe tbody tr th {\n",
       "        vertical-align: top;\n",
       "    }\n",
       "\n",
       "    .dataframe thead th {\n",
       "        text-align: right;\n",
       "    }\n",
       "</style>\n",
       "<table border=\"1\" class=\"dataframe\">\n",
       "  <thead>\n",
       "    <tr style=\"text-align: right;\">\n",
       "      <th></th>\n",
       "      <th>Name</th>\n",
       "      <th>Age</th>\n",
       "    </tr>\n",
       "  </thead>\n",
       "  <tbody>\n",
       "    <tr>\n",
       "      <th>3</th>\n",
       "      <td>rahul</td>\n",
       "      <td>50</td>\n",
       "    </tr>\n",
       "    <tr>\n",
       "      <th>4</th>\n",
       "      <td>joy</td>\n",
       "      <td>38</td>\n",
       "    </tr>\n",
       "  </tbody>\n",
       "</table>\n",
       "</div>"
      ],
      "text/plain": [
       "    Name  Age\n",
       "3  rahul   50\n",
       "4    joy   38"
      ]
     },
     "execution_count": 35,
     "metadata": {},
     "output_type": "execute_result"
    }
   ],
   "source": [
    "df1[df1['Age']>15]"
   ]
  },
  {
   "cell_type": "code",
   "execution_count": 36,
   "id": "a4517a7b",
   "metadata": {},
   "outputs": [
    {
     "data": {
      "text/html": [
       "<div>\n",
       "<style scoped>\n",
       "    .dataframe tbody tr th:only-of-type {\n",
       "        vertical-align: middle;\n",
       "    }\n",
       "\n",
       "    .dataframe tbody tr th {\n",
       "        vertical-align: top;\n",
       "    }\n",
       "\n",
       "    .dataframe thead th {\n",
       "        text-align: right;\n",
       "    }\n",
       "</style>\n",
       "<table border=\"1\" class=\"dataframe\">\n",
       "  <thead>\n",
       "    <tr style=\"text-align: right;\">\n",
       "      <th></th>\n",
       "      <th>Name</th>\n",
       "      <th>Age</th>\n",
       "    </tr>\n",
       "  </thead>\n",
       "  <tbody>\n",
       "    <tr>\n",
       "      <th>0</th>\n",
       "      <td>tom</td>\n",
       "      <td>10</td>\n",
       "    </tr>\n",
       "    <tr>\n",
       "      <th>1</th>\n",
       "      <td>nick</td>\n",
       "      <td>15</td>\n",
       "    </tr>\n",
       "    <tr>\n",
       "      <th>2</th>\n",
       "      <td>juli</td>\n",
       "      <td>14</td>\n",
       "    </tr>\n",
       "    <tr>\n",
       "      <th>3</th>\n",
       "      <td>rahul</td>\n",
       "      <td>50</td>\n",
       "    </tr>\n",
       "    <tr>\n",
       "      <th>4</th>\n",
       "      <td>joy</td>\n",
       "      <td>38</td>\n",
       "    </tr>\n",
       "  </tbody>\n",
       "</table>\n",
       "</div>"
      ],
      "text/plain": [
       "    Name  Age\n",
       "0    tom   10\n",
       "1   nick   15\n",
       "2   juli   14\n",
       "3  rahul   50\n",
       "4    joy   38"
      ]
     },
     "execution_count": 36,
     "metadata": {},
     "output_type": "execute_result"
    }
   ],
   "source": [
    "df1"
   ]
  },
  {
   "cell_type": "code",
   "execution_count": null,
   "id": "48a8d494",
   "metadata": {},
   "outputs": [],
   "source": []
  },
  {
   "cell_type": "code",
   "execution_count": 37,
   "id": "08c1f78f",
   "metadata": {},
   "outputs": [],
   "source": [
    "df1.loc[4,'Name']='John'\n",
    "df1.loc[4,'Age']=50"
   ]
  },
  {
   "cell_type": "code",
   "execution_count": 38,
   "id": "e3ed8a8f",
   "metadata": {},
   "outputs": [
    {
     "data": {
      "text/html": [
       "<div>\n",
       "<style scoped>\n",
       "    .dataframe tbody tr th:only-of-type {\n",
       "        vertical-align: middle;\n",
       "    }\n",
       "\n",
       "    .dataframe tbody tr th {\n",
       "        vertical-align: top;\n",
       "    }\n",
       "\n",
       "    .dataframe thead th {\n",
       "        text-align: right;\n",
       "    }\n",
       "</style>\n",
       "<table border=\"1\" class=\"dataframe\">\n",
       "  <thead>\n",
       "    <tr style=\"text-align: right;\">\n",
       "      <th></th>\n",
       "      <th>Name</th>\n",
       "      <th>Age</th>\n",
       "    </tr>\n",
       "  </thead>\n",
       "  <tbody>\n",
       "    <tr>\n",
       "      <th>0</th>\n",
       "      <td>tom</td>\n",
       "      <td>10</td>\n",
       "    </tr>\n",
       "    <tr>\n",
       "      <th>1</th>\n",
       "      <td>nick</td>\n",
       "      <td>15</td>\n",
       "    </tr>\n",
       "    <tr>\n",
       "      <th>2</th>\n",
       "      <td>juli</td>\n",
       "      <td>14</td>\n",
       "    </tr>\n",
       "    <tr>\n",
       "      <th>3</th>\n",
       "      <td>rahul</td>\n",
       "      <td>50</td>\n",
       "    </tr>\n",
       "    <tr>\n",
       "      <th>4</th>\n",
       "      <td>John</td>\n",
       "      <td>50</td>\n",
       "    </tr>\n",
       "  </tbody>\n",
       "</table>\n",
       "</div>"
      ],
      "text/plain": [
       "    Name  Age\n",
       "0    tom   10\n",
       "1   nick   15\n",
       "2   juli   14\n",
       "3  rahul   50\n",
       "4   John   50"
      ]
     },
     "execution_count": 38,
     "metadata": {},
     "output_type": "execute_result"
    }
   ],
   "source": [
    "df1"
   ]
  },
  {
   "cell_type": "code",
   "execution_count": 39,
   "id": "23467c7e",
   "metadata": {},
   "outputs": [
    {
     "data": {
      "text/html": [
       "<div>\n",
       "<style scoped>\n",
       "    .dataframe tbody tr th:only-of-type {\n",
       "        vertical-align: middle;\n",
       "    }\n",
       "\n",
       "    .dataframe tbody tr th {\n",
       "        vertical-align: top;\n",
       "    }\n",
       "\n",
       "    .dataframe thead th {\n",
       "        text-align: right;\n",
       "    }\n",
       "</style>\n",
       "<table border=\"1\" class=\"dataframe\">\n",
       "  <thead>\n",
       "    <tr style=\"text-align: right;\">\n",
       "      <th></th>\n",
       "      <th>Name</th>\n",
       "      <th>Age</th>\n",
       "    </tr>\n",
       "  </thead>\n",
       "  <tbody>\n",
       "    <tr>\n",
       "      <th>1</th>\n",
       "      <td>nick</td>\n",
       "      <td>15</td>\n",
       "    </tr>\n",
       "    <tr>\n",
       "      <th>2</th>\n",
       "      <td>juli</td>\n",
       "      <td>14</td>\n",
       "    </tr>\n",
       "    <tr>\n",
       "      <th>3</th>\n",
       "      <td>rahul</td>\n",
       "      <td>50</td>\n",
       "    </tr>\n",
       "    <tr>\n",
       "      <th>4</th>\n",
       "      <td>John</td>\n",
       "      <td>50</td>\n",
       "    </tr>\n",
       "  </tbody>\n",
       "</table>\n",
       "</div>"
      ],
      "text/plain": [
       "    Name  Age\n",
       "1   nick   15\n",
       "2   juli   14\n",
       "3  rahul   50\n",
       "4   John   50"
      ]
     },
     "execution_count": 39,
     "metadata": {},
     "output_type": "execute_result"
    }
   ],
   "source": [
    "df1.drop(0)"
   ]
  },
  {
   "cell_type": "code",
   "execution_count": 40,
   "id": "240377f4",
   "metadata": {},
   "outputs": [],
   "source": [
    "# 10.\n",
    "#For the Data Frame obtained from step 9, convert the same to a list and a dictionary respectively"
   ]
  },
  {
   "cell_type": "code",
   "execution_count": 74,
   "id": "0a760127",
   "metadata": {},
   "outputs": [
    {
     "data": {
      "text/plain": [
       "[array(['tom', 10], dtype=object),\n",
       " array(['nick', 15], dtype=object),\n",
       " array(['juli', 14], dtype=object),\n",
       " array(['rahul', 50], dtype=object),\n",
       " array(['joy', 38], dtype=object)]"
      ]
     },
     "execution_count": 74,
     "metadata": {},
     "output_type": "execute_result"
    }
   ],
   "source": [
    "l1=list(df1.values)\n",
    "l1"
   ]
  },
  {
   "cell_type": "code",
   "execution_count": 75,
   "id": "f90cef93",
   "metadata": {},
   "outputs": [],
   "source": [
    "di1 = dict(df1.values)"
   ]
  },
  {
   "cell_type": "code",
   "execution_count": 76,
   "id": "ac56ceed",
   "metadata": {},
   "outputs": [
    {
     "data": {
      "text/plain": [
       "{'tom': 10, 'nick': 15, 'juli': 14, 'rahul': 50, 'joy': 38}"
      ]
     },
     "execution_count": 76,
     "metadata": {},
     "output_type": "execute_result"
    }
   ],
   "source": [
    "di1"
   ]
  },
  {
   "cell_type": "code",
   "execution_count": 77,
   "id": "786070d8",
   "metadata": {},
   "outputs": [
    {
     "data": {
      "text/plain": [
       "' . Create two separate Data Frames A and B, and perform the following operations on them. \\nConcatenate the two Data Frames to a new Data Frame  C. \\nSplit the Data Frame  C row wise. \\nSplit the Data Frame column wise based on a condition. For example - columns values greater than 10, column values less than 10, etc\\n'"
      ]
     },
     "execution_count": 77,
     "metadata": {},
     "output_type": "execute_result"
    }
   ],
   "source": [
    "# 11\n",
    "\"\"\" . Create two separate Data Frames A and B, and perform the following operations on them. \n",
    "Concatenate the two Data Frames to a new Data Frame  C. \n",
    "Split the Data Frame  C row wise. \n",
    "Split the Data Frame column wise based on a condition. For example - columns values greater than 10, column values less than 10, etc\n",
    "\"\"\""
   ]
  },
  {
   "cell_type": "code",
   "execution_count": 45,
   "id": "05efec46",
   "metadata": {},
   "outputs": [],
   "source": [
    "A = pd.DataFrame([1,2,3,4,5])\n",
    "B = pd.DataFrame([11,12,13,14,15])\n"
   ]
  },
  {
   "cell_type": "code",
   "execution_count": 46,
   "id": "b03cb583",
   "metadata": {},
   "outputs": [],
   "source": [
    "C = pd.concat([A,B],ignore_index=True )\n"
   ]
  },
  {
   "cell_type": "code",
   "execution_count": 47,
   "id": "3c3fa098",
   "metadata": {
    "scrolled": true
   },
   "outputs": [
    {
     "name": "stdout",
     "output_type": "stream",
     "text": [
      "    0\n",
      "0   1\n",
      "1   2\n",
      "2   3\n",
      "3   4\n",
      "4   5\n",
      "5  11\n",
      "6  12\n",
      "7  13\n",
      "8  14\n",
      "9  15\n"
     ]
    }
   ],
   "source": [
    "print(C)"
   ]
  },
  {
   "cell_type": "code",
   "execution_count": 48,
   "id": "8d30a0c4",
   "metadata": {},
   "outputs": [],
   "source": [
    "# splitting dataframe by row index\n",
    "df_1 = C.iloc[:4,:]\n",
    "df_2 = C.iloc[4:,:]\n"
   ]
  },
  {
   "cell_type": "code",
   "execution_count": 49,
   "id": "666e8708",
   "metadata": {},
   "outputs": [
    {
     "name": "stdout",
     "output_type": "stream",
     "text": [
      "   0\n",
      "0  1\n",
      "1  2\n",
      "2  3\n",
      "3  4\n"
     ]
    }
   ],
   "source": [
    "print(df_1)"
   ]
  },
  {
   "cell_type": "code",
   "execution_count": 50,
   "id": "8a3751f2",
   "metadata": {},
   "outputs": [
    {
     "name": "stdout",
     "output_type": "stream",
     "text": [
      "    0\n",
      "4   5\n",
      "5  11\n",
      "6  12\n",
      "7  13\n",
      "8  14\n",
      "9  15\n"
     ]
    }
   ],
   "source": [
    "print(df_2)"
   ]
  },
  {
   "cell_type": "code",
   "execution_count": null,
   "id": "f3b6649f",
   "metadata": {},
   "outputs": [],
   "source": [
    "#column wise - Home Task"
   ]
  },
  {
   "cell_type": "code",
   "execution_count": 51,
   "id": "1f20774d",
   "metadata": {},
   "outputs": [],
   "source": [
    "df3 = pd.DataFrame.from_dict(\n",
    "    {\n",
    "        'Name': ['Jenny', 'Matt', 'Kristen', 'Jenny', 'Matt', 'Kristen', 'Jenny', 'Matt', 'Kristen', 'Jenny', 'Matt', 'Kristen'],\n",
    "        'Year': [2020, 2021, 2022, 2020, 2021, 2022, 2020, 2021, 2022, 2020, 2021, 2022],\n",
    "        'Income': [10000, 11000, 9000, 12000, 13000, 11000, 14000, 15000, 13000, 12000, 14000, 13000],\n",
    "        'Gender': ['F', 'M', 'F', 'F', 'M', 'F', 'F', 'M', 'F', 'F', 'M', 'F']\n",
    "    }\n",
    ")"
   ]
  },
  {
   "cell_type": "code",
   "execution_count": 53,
   "id": "e199268d",
   "metadata": {},
   "outputs": [
    {
     "name": "stdout",
     "output_type": "stream",
     "text": [
      "    Name  Year  Income Gender\n",
      "0  Jenny  2020   10000      F\n",
      "3  Jenny  2020   12000      F\n",
      "6  Jenny  2020   14000      F\n",
      "9  Jenny  2020   12000      F\n"
     ]
    }
   ],
   "source": [
    "grouped = df3.groupby(df3['Name'])\n",
    "print(grouped.get_group('Jenny'))"
   ]
  },
  {
   "cell_type": "code",
   "execution_count": 71,
   "id": "d48faa2d",
   "metadata": {},
   "outputs": [
    {
     "data": {
      "text/plain": [
       "'Create a Data Frame with columns Name and Age. Perform the following operations.\\nWrite a sample code to search for the Name/Names where Age is 20. \\nSort the Data Frame in ascending order of ages. \\nUsing Python loops, print the ages from the data frame and store it in a set.\\n'"
      ]
     },
     "execution_count": 71,
     "metadata": {},
     "output_type": "execute_result"
    }
   ],
   "source": [
    "# 12\n",
    "\n",
    "\"\"\"Create a Data Frame with columns Name and Age. Perform the following operations.\n",
    "Write a sample code to search for the Name/Names where Age is 20. \n",
    "Sort the Data Frame in ascending order of ages. \n",
    "Using Python loops, print the ages from the data frame and store it in a set.\n",
    "\"\"\""
   ]
  },
  {
   "cell_type": "code",
   "execution_count": 61,
   "id": "e573b40e",
   "metadata": {},
   "outputs": [],
   "source": [
    "df4 = pd.DataFrame.from_dict(\n",
    "    {\n",
    "        'Name': ['Jenny', 'Matt', 'Kristen', 'Phany', 'Matt', 'Kristen', 'John', 'Matt', 'Kristen', 'Jenny', 'Matt', 'Kristen'],\n",
    "        'Age': [20, 21, 32, 20, 71, 98, 10, 17, 13, 74, 120, 34],\n",
    "        'Gender': ['F', 'M', 'F', 'F', 'M', 'F', 'F', 'M', 'F', 'F', 'M', 'F']\n",
    "    }\n",
    ")"
   ]
  },
  {
   "cell_type": "code",
   "execution_count": 62,
   "id": "f2e409cc",
   "metadata": {},
   "outputs": [
    {
     "data": {
      "text/html": [
       "<div>\n",
       "<style scoped>\n",
       "    .dataframe tbody tr th:only-of-type {\n",
       "        vertical-align: middle;\n",
       "    }\n",
       "\n",
       "    .dataframe tbody tr th {\n",
       "        vertical-align: top;\n",
       "    }\n",
       "\n",
       "    .dataframe thead th {\n",
       "        text-align: right;\n",
       "    }\n",
       "</style>\n",
       "<table border=\"1\" class=\"dataframe\">\n",
       "  <thead>\n",
       "    <tr style=\"text-align: right;\">\n",
       "      <th></th>\n",
       "      <th>Name</th>\n",
       "      <th>Age</th>\n",
       "      <th>Gender</th>\n",
       "    </tr>\n",
       "  </thead>\n",
       "  <tbody>\n",
       "    <tr>\n",
       "      <th>0</th>\n",
       "      <td>Jenny</td>\n",
       "      <td>20</td>\n",
       "      <td>F</td>\n",
       "    </tr>\n",
       "    <tr>\n",
       "      <th>1</th>\n",
       "      <td>Matt</td>\n",
       "      <td>21</td>\n",
       "      <td>M</td>\n",
       "    </tr>\n",
       "    <tr>\n",
       "      <th>2</th>\n",
       "      <td>Kristen</td>\n",
       "      <td>32</td>\n",
       "      <td>F</td>\n",
       "    </tr>\n",
       "    <tr>\n",
       "      <th>3</th>\n",
       "      <td>Phany</td>\n",
       "      <td>20</td>\n",
       "      <td>F</td>\n",
       "    </tr>\n",
       "    <tr>\n",
       "      <th>4</th>\n",
       "      <td>Matt</td>\n",
       "      <td>71</td>\n",
       "      <td>M</td>\n",
       "    </tr>\n",
       "    <tr>\n",
       "      <th>5</th>\n",
       "      <td>Kristen</td>\n",
       "      <td>98</td>\n",
       "      <td>F</td>\n",
       "    </tr>\n",
       "    <tr>\n",
       "      <th>6</th>\n",
       "      <td>John</td>\n",
       "      <td>10</td>\n",
       "      <td>F</td>\n",
       "    </tr>\n",
       "    <tr>\n",
       "      <th>7</th>\n",
       "      <td>Matt</td>\n",
       "      <td>17</td>\n",
       "      <td>M</td>\n",
       "    </tr>\n",
       "    <tr>\n",
       "      <th>8</th>\n",
       "      <td>Kristen</td>\n",
       "      <td>13</td>\n",
       "      <td>F</td>\n",
       "    </tr>\n",
       "    <tr>\n",
       "      <th>9</th>\n",
       "      <td>Jenny</td>\n",
       "      <td>74</td>\n",
       "      <td>F</td>\n",
       "    </tr>\n",
       "    <tr>\n",
       "      <th>10</th>\n",
       "      <td>Matt</td>\n",
       "      <td>120</td>\n",
       "      <td>M</td>\n",
       "    </tr>\n",
       "    <tr>\n",
       "      <th>11</th>\n",
       "      <td>Kristen</td>\n",
       "      <td>34</td>\n",
       "      <td>F</td>\n",
       "    </tr>\n",
       "  </tbody>\n",
       "</table>\n",
       "</div>"
      ],
      "text/plain": [
       "       Name  Age Gender\n",
       "0     Jenny   20      F\n",
       "1      Matt   21      M\n",
       "2   Kristen   32      F\n",
       "3     Phany   20      F\n",
       "4      Matt   71      M\n",
       "5   Kristen   98      F\n",
       "6      John   10      F\n",
       "7      Matt   17      M\n",
       "8   Kristen   13      F\n",
       "9     Jenny   74      F\n",
       "10     Matt  120      M\n",
       "11  Kristen   34      F"
      ]
     },
     "execution_count": 62,
     "metadata": {},
     "output_type": "execute_result"
    }
   ],
   "source": [
    "df4"
   ]
  },
  {
   "cell_type": "code",
   "execution_count": 63,
   "id": "d4acccab",
   "metadata": {},
   "outputs": [
    {
     "data": {
      "text/html": [
       "<div>\n",
       "<style scoped>\n",
       "    .dataframe tbody tr th:only-of-type {\n",
       "        vertical-align: middle;\n",
       "    }\n",
       "\n",
       "    .dataframe tbody tr th {\n",
       "        vertical-align: top;\n",
       "    }\n",
       "\n",
       "    .dataframe thead th {\n",
       "        text-align: right;\n",
       "    }\n",
       "</style>\n",
       "<table border=\"1\" class=\"dataframe\">\n",
       "  <thead>\n",
       "    <tr style=\"text-align: right;\">\n",
       "      <th></th>\n",
       "      <th>Name</th>\n",
       "      <th>Age</th>\n",
       "      <th>Gender</th>\n",
       "    </tr>\n",
       "  </thead>\n",
       "  <tbody>\n",
       "    <tr>\n",
       "      <th>0</th>\n",
       "      <td>Jenny</td>\n",
       "      <td>20</td>\n",
       "      <td>F</td>\n",
       "    </tr>\n",
       "    <tr>\n",
       "      <th>3</th>\n",
       "      <td>Phany</td>\n",
       "      <td>20</td>\n",
       "      <td>F</td>\n",
       "    </tr>\n",
       "  </tbody>\n",
       "</table>\n",
       "</div>"
      ],
      "text/plain": [
       "    Name  Age Gender\n",
       "0  Jenny   20      F\n",
       "3  Phany   20      F"
      ]
     },
     "execution_count": 63,
     "metadata": {},
     "output_type": "execute_result"
    }
   ],
   "source": [
    "df4[df4['Age']==20]"
   ]
  },
  {
   "cell_type": "code",
   "execution_count": 69,
   "id": "fc18cc58",
   "metadata": {},
   "outputs": [
    {
     "data": {
      "text/html": [
       "<div>\n",
       "<style scoped>\n",
       "    .dataframe tbody tr th:only-of-type {\n",
       "        vertical-align: middle;\n",
       "    }\n",
       "\n",
       "    .dataframe tbody tr th {\n",
       "        vertical-align: top;\n",
       "    }\n",
       "\n",
       "    .dataframe thead th {\n",
       "        text-align: right;\n",
       "    }\n",
       "</style>\n",
       "<table border=\"1\" class=\"dataframe\">\n",
       "  <thead>\n",
       "    <tr style=\"text-align: right;\">\n",
       "      <th></th>\n",
       "      <th>Name</th>\n",
       "      <th>Age</th>\n",
       "      <th>Gender</th>\n",
       "    </tr>\n",
       "  </thead>\n",
       "  <tbody>\n",
       "    <tr>\n",
       "      <th>6</th>\n",
       "      <td>John</td>\n",
       "      <td>10</td>\n",
       "      <td>F</td>\n",
       "    </tr>\n",
       "    <tr>\n",
       "      <th>8</th>\n",
       "      <td>Kristen</td>\n",
       "      <td>13</td>\n",
       "      <td>F</td>\n",
       "    </tr>\n",
       "    <tr>\n",
       "      <th>7</th>\n",
       "      <td>Matt</td>\n",
       "      <td>17</td>\n",
       "      <td>M</td>\n",
       "    </tr>\n",
       "    <tr>\n",
       "      <th>0</th>\n",
       "      <td>Jenny</td>\n",
       "      <td>20</td>\n",
       "      <td>F</td>\n",
       "    </tr>\n",
       "    <tr>\n",
       "      <th>3</th>\n",
       "      <td>Phany</td>\n",
       "      <td>20</td>\n",
       "      <td>F</td>\n",
       "    </tr>\n",
       "    <tr>\n",
       "      <th>1</th>\n",
       "      <td>Matt</td>\n",
       "      <td>21</td>\n",
       "      <td>M</td>\n",
       "    </tr>\n",
       "    <tr>\n",
       "      <th>2</th>\n",
       "      <td>Kristen</td>\n",
       "      <td>32</td>\n",
       "      <td>F</td>\n",
       "    </tr>\n",
       "    <tr>\n",
       "      <th>11</th>\n",
       "      <td>Kristen</td>\n",
       "      <td>34</td>\n",
       "      <td>F</td>\n",
       "    </tr>\n",
       "    <tr>\n",
       "      <th>4</th>\n",
       "      <td>Matt</td>\n",
       "      <td>71</td>\n",
       "      <td>M</td>\n",
       "    </tr>\n",
       "    <tr>\n",
       "      <th>9</th>\n",
       "      <td>Jenny</td>\n",
       "      <td>74</td>\n",
       "      <td>F</td>\n",
       "    </tr>\n",
       "    <tr>\n",
       "      <th>5</th>\n",
       "      <td>Kristen</td>\n",
       "      <td>98</td>\n",
       "      <td>F</td>\n",
       "    </tr>\n",
       "    <tr>\n",
       "      <th>10</th>\n",
       "      <td>Matt</td>\n",
       "      <td>120</td>\n",
       "      <td>M</td>\n",
       "    </tr>\n",
       "  </tbody>\n",
       "</table>\n",
       "</div>"
      ],
      "text/plain": [
       "       Name  Age Gender\n",
       "6      John   10      F\n",
       "8   Kristen   13      F\n",
       "7      Matt   17      M\n",
       "0     Jenny   20      F\n",
       "3     Phany   20      F\n",
       "1      Matt   21      M\n",
       "2   Kristen   32      F\n",
       "11  Kristen   34      F\n",
       "4      Matt   71      M\n",
       "9     Jenny   74      F\n",
       "5   Kristen   98      F\n",
       "10     Matt  120      M"
      ]
     },
     "execution_count": 69,
     "metadata": {},
     "output_type": "execute_result"
    }
   ],
   "source": [
    "df4.sort_values(by='Age')"
   ]
  },
  {
   "cell_type": "code",
   "execution_count": 66,
   "id": "07071e61",
   "metadata": {},
   "outputs": [
    {
     "data": {
      "text/plain": [
       "0      20\n",
       "1      21\n",
       "2      32\n",
       "3      20\n",
       "4      71\n",
       "5      98\n",
       "6      10\n",
       "7      17\n",
       "8      13\n",
       "9      74\n",
       "10    120\n",
       "11     34\n",
       "Name: Age, dtype: int64"
      ]
     },
     "execution_count": 66,
     "metadata": {},
     "output_type": "execute_result"
    }
   ],
   "source": [
    "df4['Age']"
   ]
  },
  {
   "cell_type": "code",
   "execution_count": 83,
   "id": "3de099db",
   "metadata": {},
   "outputs": [
    {
     "name": "stdout",
     "output_type": "stream",
     "text": [
      "{32, 98, 34, 71, 10, 74, 13, 17, 20, 21, 120}\n"
     ]
    }
   ],
   "source": [
    "l=[]\n",
    "for i in range(len(df4)):\n",
    "    l.append(df4.loc[i,'Age'])\n",
    "set1=set(l)\n",
    "print(set1)\n",
    "    \n",
    "    "
   ]
  },
  {
   "cell_type": "code",
   "execution_count": null,
   "id": "e2dc6c41",
   "metadata": {},
   "outputs": [],
   "source": []
  }
 ],
 "metadata": {
  "kernelspec": {
   "display_name": "Python 3 (ipykernel)",
   "language": "python",
   "name": "python3"
  },
  "language_info": {
   "codemirror_mode": {
    "name": "ipython",
    "version": 3
   },
   "file_extension": ".py",
   "mimetype": "text/x-python",
   "name": "python",
   "nbconvert_exporter": "python",
   "pygments_lexer": "ipython3",
   "version": "3.9.7"
  }
 },
 "nbformat": 4,
 "nbformat_minor": 5
}
