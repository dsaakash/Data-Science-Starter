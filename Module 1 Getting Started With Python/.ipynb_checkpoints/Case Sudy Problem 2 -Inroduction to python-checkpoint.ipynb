{
 "cells": [
  {
   "cell_type": "code",
   "execution_count": 1,
   "id": "a2ee57cd",
   "metadata": {},
   "outputs": [],
   "source": [
    "#Q1 Create 1st tuple with values-->(10,20,30),2nd tuple with values-->(40,50,60)"
   ]
  },
  {
   "cell_type": "code",
   "execution_count": 1,
   "id": "1babb7cb",
   "metadata": {},
   "outputs": [
    {
     "name": "stdout",
     "output_type": "stream",
     "text": [
      "(10, 20, 30, 40, 50, 60)\n",
      "((10, 20, 30, 40, 50, 60), (10, 20, 30, 40, 50, 60), (10, 20, 30, 40, 50, 60))\n",
      "third element: (10, 20, 30, 40, 50, 60)\n",
      "(10, 20, 30)\n",
      "(10, 20, 30)\n",
      "(10, 20, 30)\n"
     ]
    }
   ],
   "source": [
    "t1 = (10,20,30)\n",
    "t2 = (40,50,60)\n",
    "\n",
    "#a)concatenate two tuples and store it in \"t_combine\"\n",
    "t_combine = t1 + t2\n",
    "\n",
    "print(t_combine)\n",
    "\n",
    "\n",
    "#b)Repeat\n",
    "test_tup = t_combine\n",
    "# printing original tuple \n",
    "#print(\"The original tuple : \" + str(test_tup))\n",
    "\n",
    "# initialize N \n",
    "N = 3\n",
    "# Repeating tuples N times\n",
    "# using * operator\n",
    "res = ((test_tup, ) * N)\n",
    "print(res)\n",
    "\n",
    "#c)Acess third element which is ther ein t_combine\n",
    "res1 = res[2]\n",
    "print(\"third element:\",res[2])\n",
    "\n",
    "\n",
    "#d Acess first three elements in t_combine \n",
    "res2= list(res)\n",
    "\n",
    "for x in res2:\n",
    "    print(x[0:3:1])"
   ]
  },
  {
   "cell_type": "code",
   "execution_count": null,
   "id": "8b9a119e",
   "metadata": {},
   "outputs": [],
   "source": [
    "#Q2 Create a list new_list with these elements \n",
    "my_list[(1,2,3),(\"a\",\"b\",\"c\"),(True,False)]\n"
   ]
  },
  {
   "cell_type": "code",
   "execution_count": 61,
   "id": "78484f7a",
   "metadata": {},
   "outputs": [
    {
     "name": "stdout",
     "output_type": "stream",
     "text": [
      "[(1, 2, 3), ('a', 'b', 'c'), (True, False), (1, 'a', True), (1, 'a', True), ['sparta', 123], (1, 'a', True), ['sparta', 123], (1, 'a', True), ['sparta', 123]]\n"
     ]
    }
   ],
   "source": [
    "#Q3: Append an new tuple-(1,'a',True)\n",
    "my_list.append((1,'a',True))\n",
    "\n",
    "#a)Append an new list -[\"sparta\",123]\n",
    "my_list.append([\"sparta\",123])\n",
    "print(my_list)"
   ]
  },
  {
   "cell_type": "code",
   "execution_count": 57,
   "id": "eead9b80",
   "metadata": {},
   "outputs": [
    {
     "name": "stdout",
     "output_type": "stream",
     "text": [
      "fruit\n",
      "Cost\n",
      "['Apple', 'Banana', 'Mango', 'Guava']\n",
      "[85, 54, 120, 70]\n"
     ]
    }
   ],
   "source": [
    "#Q4 Create dictuinary 'fruit' where \n",
    "\n",
    "\n",
    "fruit = {\"fruit\":[\"Apple\",\"Banana\",\"Mango\",\"Guava\"],\"Cost\":[85,54,120,70]}\n",
    "#Extract all keys in from fruit\n",
    "for key in fruit.keys():\n",
    "    print(key)\n",
    "\n",
    "#Extract all values of fruits and cost    \n",
    "for key in fruit.values():\n",
    "    print(key)\n",
    " "
   ]
  },
  {
   "cell_type": "code",
   "execution_count": 46,
   "id": "2ebfab3c",
   "metadata": {},
   "outputs": [],
   "source": [
    "#5 Create a set named my_set with values (1,1,\"a\",True,True) and print result"
   ]
  },
  {
   "cell_type": "code",
   "execution_count": 49,
   "id": "f5118c3e",
   "metadata": {},
   "outputs": [
    {
     "name": "stdout",
     "output_type": "stream",
     "text": [
      "{'a', 1}\n"
     ]
    }
   ],
   "source": [
    "my_set = {1,1,\"a\",True,True}\n",
    "print(my_set)"
   ]
  },
  {
   "cell_type": "code",
   "execution_count": null,
   "id": "89e650d2",
   "metadata": {},
   "outputs": [],
   "source": []
  }
 ],
 "metadata": {
  "kernelspec": {
   "display_name": "Python 3 (ipykernel)",
   "language": "python",
   "name": "python3"
  },
  "language_info": {
   "codemirror_mode": {
    "name": "ipython",
    "version": 3
   },
   "file_extension": ".py",
   "mimetype": "text/x-python",
   "name": "python",
   "nbconvert_exporter": "python",
   "pygments_lexer": "ipython3",
   "version": "3.9.7"
  }
 },
 "nbformat": 4,
 "nbformat_minor": 5
}
