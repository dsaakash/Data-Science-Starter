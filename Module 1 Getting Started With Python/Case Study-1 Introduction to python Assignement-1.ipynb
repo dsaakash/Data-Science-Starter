{
 "cells": [
  {
   "cell_type": "markdown",
   "id": "34297a21",
   "metadata": {},
   "source": [
    "## Problem Statement:\n",
    "   ### Consider yourself to be Sam who is Data-Scientiest. He has invited as a guest lecturer at a college  to take an session on python"
   ]
  },
  {
   "cell_type": "markdown",
   "id": "393c737e",
   "metadata": {},
   "source": [
    "# Q1: Create an list  containing squares of numbers from 1 to 10"
   ]
  },
  {
   "cell_type": "code",
   "execution_count": 4,
   "id": "b6dba7ae",
   "metadata": {},
   "outputs": [
    {
     "name": "stdout",
     "output_type": "stream",
     "text": [
      "[1, 4, 9, 16, 25, 36, 49, 64, 81]\n"
     ]
    }
   ],
   "source": [
    "# using list comprehension it will works like simple \n",
    "#if x=0 then x**2 is 0\n",
    "# if x is 2 then x**2 is 4 \n",
    "\n",
    "squares = [x**2 for x in range(1,10,1)]\n",
    "print(squares)"
   ]
  },
  {
   "cell_type": "markdown",
   "id": "afca2ac3",
   "metadata": {},
   "source": [
    "## Altenative way :"
   ]
  },
  {
   "cell_type": "code",
   "execution_count": 5,
   "id": "a9d9b79f",
   "metadata": {},
   "outputs": [
    {
     "name": "stdout",
     "output_type": "stream",
     "text": [
      "[0, 1, 4, 9, 16, 25, 36, 49, 64, 81]\n"
     ]
    }
   ],
   "source": [
    "# create a list using a for loop\n",
    "squares = []\n",
    "\n",
    "for x in range(10):\n",
    "    # raise x to the power of 2\n",
    "    squares.append(x**2)\n",
    "\n",
    "print(squares)"
   ]
  },
  {
   "cell_type": "markdown",
   "id": "c6f94c66",
   "metadata": {},
   "source": [
    "# Q2 Write a function whether year number is leap  "
   ]
  },
  {
   "cell_type": "markdown",
   "id": "b43f9094",
   "metadata": {},
   "source": [
    "#Leap Year:\n",
    "\n",
    "A year is called a leap year \n",
    "if it contains an additional \n",
    "day which makes the number of the days \n",
    "in that year is 366. \n",
    "This additional day is added in \n",
    "February which makes it 29 days long.\n",
    "\n",
    "A leap year occurred once every 4 year"
   ]
  },
  {
   "cell_type": "markdown",
   "id": "8c6b4f2c",
   "metadata": {},
   "source": [
    " steps to determine whether a year is a leap year or not:\n",
    " "
   ]
  },
  {
   "cell_type": "markdown",
   "id": "e142db0d",
   "metadata": {},
   "source": [
    "# Steps to determine whether leap year or not \n",
    "\n",
    "* If a year is evenly divisible by 4 means having no remainder then go to next step. \n",
    "\n",
    "*  If it is not divisible by 4. It is not a leap year. \n",
    "   For example: 1997 is not a leap year.\n",
    "*  If a year is divisible by 4, but not by 100. \n",
    "   For example: 2012, it is a leap year. \n",
    "* If a year is divisible by both 4 and 100, \n",
    "  go to next step.\n",
    "* If a year is divisible by 100, but not by 400. \n",
    "  For example: 1900, then it is not a leap year. \n",
    "* If a year is divisible by both, \n",
    "  then it is a leap year.\n",
    "* Conclusion:  \n",
    "  So 2000 is a leap year.\n"
   ]
  },
  {
   "cell_type": "code",
   "execution_count": 8,
   "id": "e4b2329f",
   "metadata": {},
   "outputs": [
    {
     "name": "stdout",
     "output_type": "stream",
     "text": [
      "Enter the number: 2000\n",
      "Given Year is a leap Year\n"
     ]
    }
   ],
   "source": [
    "# Solution:\n",
    "\n",
    "def CheckLeap(Year):  \n",
    "  # Checking if the given year is leap year  \n",
    "  if((Year % 400 == 0) or  \n",
    "     (Year % 100 != 0) and  \n",
    "     (Year % 4 == 0)):   \n",
    "    print(\"Given Year is a leap Year\");  \n",
    "  # Else it is not a leap year  \n",
    "  else:  \n",
    "    print (\"Given Year is not a leap Year\")  \n",
    "# Taking an input year from user  \n",
    "Year = int(input(\"Enter the number: \"))  \n",
    "# Printing result  \n",
    "CheckLeap(Year)  "
   ]
  },
  {
   "cell_type": "markdown",
   "id": "ce65dabf",
   "metadata": {},
   "source": [
    "## Explaination :\n",
    "* the program first will go to the input part \n",
    "* and check if the given year is a leap year. \n",
    "* If the condition satisfies, \n",
    "   the program will print 'Leap Year'; \n",
    "   else program will print 'Not a leap year.'\n",
    "    "
   ]
  },
  {
   "cell_type": "markdown",
   "id": "15da8625",
   "metadata": {},
   "source": [
    "# Q3 Write a function to take an array and return another array  that contains member of first array that are even"
   ]
  },
  {
   "cell_type": "code",
   "execution_count": 5,
   "id": "205a149f",
   "metadata": {},
   "outputs": [
    {
     "name": "stdout",
     "output_type": "stream",
     "text": [
      "2\n",
      "10\n",
      "40\n",
      "34\n",
      "50\n"
     ]
    }
   ],
   "source": [
    "# imported a  library array giveing udf name  as arr\n",
    "import array as arr\n",
    "\n",
    "#declaring function \n",
    "def arrayTest():\n",
    "    sampleArray=arr.array('i', [2,15,10,27,3,40,9,34,50,5])  \n",
    "    evenArray=arr.array('i', [])\n",
    "    \n",
    "    for i in sampleArray:    \n",
    "        if (i%2)==0:                     \n",
    "            evenArray.append(i)\n",
    "    \n",
    "    for k in evenArray:\n",
    "        print(k)\n",
    "    \n",
    "arrayTest()"
   ]
  },
  {
   "cell_type": "code",
   "execution_count": null,
   "id": "8ed38e82",
   "metadata": {},
   "outputs": [],
   "source": []
  },
  {
   "cell_type": "markdown",
   "id": "6f111343",
   "metadata": {},
   "source": [
    "# Q4: Write a Function that takes two arrays and print members of first array that are present of second array use membership comprehension"
   ]
  },
  {
   "cell_type": "code",
   "execution_count": 4,
   "id": "6c765365",
   "metadata": {},
   "outputs": [
    {
     "name": "stdout",
     "output_type": "stream",
     "text": [
      "[34, 55]\n"
     ]
    }
   ],
   "source": [
    "#take 2 arrays in terms of list namely arr1,arr2\n",
    "array1 =[12,34,55,66,77]\n",
    "array2 =[4,3,55,34,21,4]\n",
    "\n",
    "def func(array1,array2):\n",
    "    #using list comprehension\n",
    "    print([i for i in array1 if i in array2])\n",
    "    \n",
    "    \n",
    "func(array1,array2)\n",
    "    "
   ]
  },
  {
   "cell_type": "code",
   "execution_count": null,
   "id": "da2aa3db",
   "metadata": {},
   "outputs": [],
   "source": []
  }
 ],
 "metadata": {
  "kernelspec": {
   "display_name": "Python 3 (ipykernel)",
   "language": "python",
   "name": "python3"
  },
  "language_info": {
   "codemirror_mode": {
    "name": "ipython",
    "version": 3
   },
   "file_extension": ".py",
   "mimetype": "text/x-python",
   "name": "python",
   "nbconvert_exporter": "python",
   "pygments_lexer": "ipython3",
   "version": "3.9.7"
  }
 },
 "nbformat": 4,
 "nbformat_minor": 5
}
