{
 "cells": [
  {
   "cell_type": "code",
   "execution_count": 2,
   "id": "5f6d68fe",
   "metadata": {},
   "outputs": [
    {
     "name": "stdout",
     "output_type": "stream",
     "text": [
      "10\n",
      "20\n",
      "30\n",
      "The greatest number is 30\n"
     ]
    }
   ],
   "source": [
    "# Problem Statement  Take three User inputs  and print greatest number from those inputs using if-else condtion  Edge cases if any cases handled\n",
    "num1 = int(input())\n",
    "num2 = int(input())\n",
    "num3 = int(input())\n",
    "if (num1 >= num2) and (num1 >= num3):\n",
    " largest = num1\n",
    "elif (num2 >= num1) and (num2 >= num3):\n",
    " greatest = num2\n",
    "else:\n",
    " greatest = num3\n",
    "print(\"The greatest number is\",greatest )"
   ]
  },
  {
   "cell_type": "code",
   "execution_count": null,
   "id": "f6c195a0",
   "metadata": {},
   "outputs": [],
   "source": []
  }
 ],
 "metadata": {
  "kernelspec": {
   "display_name": "Python 3 (ipykernel)",
   "language": "python",
   "name": "python3"
  },
  "language_info": {
   "codemirror_mode": {
    "name": "ipython",
    "version": 3
   },
   "file_extension": ".py",
   "mimetype": "text/x-python",
   "name": "python",
   "nbconvert_exporter": "python",
   "pygments_lexer": "ipython3",
   "version": "3.9.7"
  }
 },
 "nbformat": 4,
 "nbformat_minor": 5
}
